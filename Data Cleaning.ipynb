{
 "cells": [
  {
   "cell_type": "markdown",
   "source": [
    "# Structure of this Notebook:\n",
    "For the analysis, the data regarding actual and forecast wind feed-in was downloaded from the information platform of the four German transmission system operators. In Excel, the actual and forecast wind feed-in was combined into an Excel spreadsheet, broken down by the four TSO. Also irrelevant columns like e.g. time to, were removed. \n",
    "In the sections 2 to 5 the wind data from the four control are prepared for the analysis. In this context. \n",
    "In section 6 the four data sets are combined into one data set and subjected to further processing."
   ],
   "metadata": {}
  },
  {
   "cell_type": "markdown",
   "source": [
    "# 1. Importing the required libaries"
   ],
   "metadata": {}
  },
  {
   "cell_type": "code",
   "execution_count": 142,
   "source": [
    "# Importing the required libaries\n",
    "import pandas as pd\n",
    "import numpy as np\n",
    "import seaborn as sns #visualization\n",
    "import matplotlib.pyplot as plt #visualization\n",
    "from datetime import datetime , timedelta\n",
    "#%matplotlib inline \n",
    "#import missingno as msno\n",
    "#sns.set(color_codes=True)\n",
    "#sns.set_style('whitegrid') # white plot background \n",
    "#sns.set_palette('Blues_r')"
   ],
   "outputs": [],
   "metadata": {}
  },
  {
   "cell_type": "markdown",
   "source": [
    "# 2. Control Area: 50 Hertz"
   ],
   "metadata": {}
  },
  {
   "cell_type": "markdown",
   "source": [
    "## 2.1 Loading the data into the data frame"
   ],
   "metadata": {}
  },
  {
   "cell_type": "code",
   "execution_count": 130,
   "source": [
    "wind_50Hertz= pd.read_excel(\"Data/wind_raw_data.xlsx\", sheet_name = '50Hertz', header = 0, parse_dates= [['date', 'time']])"
   ],
   "outputs": [],
   "metadata": {}
  },
  {
   "cell_type": "markdown",
   "source": [
    "## 2.2 Checking the types of the data and count of observations"
   ],
   "metadata": {}
  },
  {
   "cell_type": "code",
   "execution_count": 131,
   "source": [
    "wind_50Hertz.info()"
   ],
   "outputs": [
    {
     "output_type": "stream",
     "name": "stdout",
     "text": [
      "<class 'pandas.core.frame.DataFrame'>\n",
      "RangeIndex: 315648 entries, 0 to 315647\n",
      "Data columns (total 4 columns):\n",
      " #   Column     Non-Null Count   Dtype         \n",
      "---  ------     --------------   -----         \n",
      " 0   date_time  315648 non-null  datetime64[ns]\n",
      " 1   timezone   315648 non-null  object        \n",
      " 2   pred       315064 non-null  float64       \n",
      " 3   act        315585 non-null  float64       \n",
      "dtypes: datetime64[ns](1), float64(2), object(1)\n",
      "memory usage: 9.6+ MB\n"
     ]
    }
   ],
   "metadata": {}
  },
  {
   "cell_type": "markdown",
   "source": [
    "## 2.3 Changing the Data Type of  Date time"
   ],
   "metadata": {}
  },
  {
   "cell_type": "code",
   "execution_count": 132,
   "source": [
    "wind_50Hertz['date_time'] = pd.to_datetime(wind_50Hertz['date_time'], format = '%Y-%m-%d %H:%M:%S')"
   ],
   "outputs": [],
   "metadata": {}
  },
  {
   "cell_type": "code",
   "execution_count": null,
   "source": [
    "wind_50Hertz['date_time'] = wind_50Hertz.set_index('date_time', inplace = True)"
   ],
   "outputs": [],
   "metadata": {}
  },
  {
   "cell_type": "markdown",
   "source": [
    "## Drop irrelevant columns"
   ],
   "metadata": {}
  },
  {
   "cell_type": "code",
   "execution_count": null,
   "source": [
    "wind_50Hertz.info()"
   ],
   "outputs": [],
   "metadata": {}
  },
  {
   "cell_type": "markdown",
   "source": [
    "## 2.4 Remove duplicated rows regarding the time change"
   ],
   "metadata": {}
  },
  {
   "cell_type": "code",
   "execution_count": null,
   "source": [
    "#wind_50Hertz.duplicated('date_time', keep = False)\n",
    "duplicate_rows_wind_50Hertz = wind_50Hertz[wind_50Hertz.index.duplicated()]\n",
    "duplicate_rows_wind_50Hertz"
   ],
   "outputs": [],
   "metadata": {}
  },
  {
   "cell_type": "code",
   "execution_count": null,
   "source": [
    "wind_50Hertz = wind_50Hertz[~wind_50Hertz['date_time'].duplicated(keep='first')]"
   ],
   "outputs": [],
   "metadata": {}
  },
  {
   "cell_type": "markdown",
   "source": [
    "## 2.5 Check and handle missing values"
   ],
   "metadata": {}
  },
  {
   "cell_type": "code",
   "execution_count": 151,
   "source": [
    "#Print the number of missing values per columns\n",
    "print(wind_50Hertz.isnull().sum(),\"\\n\")"
   ],
   "outputs": [
    {
     "output_type": "stream",
     "name": "stdout",
     "text": [
      "date_time      0\n",
      "timezone       0\n",
      "pred         584\n",
      "act           63\n",
      "dtype: int64 \n",
      "\n"
     ]
    }
   ],
   "metadata": {}
  },
  {
   "cell_type": "code",
   "execution_count": null,
   "source": [
    "wind_50Hertz['pred'] = wind_50Hertz['pred'].replace(to_replace = np.nan, method = 'ffill')\n",
    "wind_50Hertz['act'] = wind_50Hertz['act'].replace(to_replace = np.nan, method = 'ffill')"
   ],
   "outputs": [],
   "metadata": {}
  },
  {
   "cell_type": "code",
   "execution_count": null,
   "source": [
    "wind_50Hertz.info()"
   ],
   "outputs": [],
   "metadata": {}
  },
  {
   "cell_type": "markdown",
   "source": [
    "Transform the data set in hourly"
   ],
   "metadata": {}
  },
  {
   "cell_type": "code",
   "execution_count": null,
   "source": [
    "wind_50Hertz = wind_50Hertz.resample('H').sum()"
   ],
   "outputs": [],
   "metadata": {}
  },
  {
   "cell_type": "markdown",
   "source": [
    "## Add features"
   ],
   "metadata": {}
  },
  {
   "cell_type": "markdown",
   "source": [
    "### Control zone"
   ],
   "metadata": {}
  },
  {
   "cell_type": "code",
   "execution_count": null,
   "source": [
    "wind_50Hertz['control_area'] = '50Hertz'\n",
    "wind_50Hertz.info()"
   ],
   "outputs": [],
   "metadata": {}
  },
  {
   "cell_type": "markdown",
   "source": [
    "### Forecast error"
   ],
   "metadata": {}
  },
  {
   "cell_type": "code",
   "execution_count": null,
   "source": [
    "wind_50Hertz['delta'] = wind_50Hertz['pred'] - wind_50Hertz['act']\n",
    "wind_50Hertz.info()"
   ],
   "outputs": [],
   "metadata": {}
  },
  {
   "cell_type": "code",
   "execution_count": null,
   "source": [
    "wind_50Hertz2.info()"
   ],
   "outputs": [],
   "metadata": {}
  },
  {
   "cell_type": "markdown",
   "source": [
    "# 3. Amprion"
   ],
   "metadata": {}
  },
  {
   "cell_type": "code",
   "execution_count": 148,
   "source": [
    "\n",
    "wind_amprion = pd.read_excel(\"Data/wind_raw_data.xlsx\", sheet_name = 'Amprion', header = 0 )\n"
   ],
   "outputs": [],
   "metadata": {}
  },
  {
   "cell_type": "code",
   "execution_count": 149,
   "source": [
    "wind_amprion.info()"
   ],
   "outputs": [
    {
     "output_type": "stream",
     "name": "stdout",
     "text": [
      "<class 'pandas.core.frame.DataFrame'>\n",
      "RangeIndex: 315648 entries, 0 to 315647\n",
      "Data columns (total 5 columns):\n",
      " #   Column     Non-Null Count   Dtype         \n",
      "---  ------     --------------   -----         \n",
      " 0   date       315648 non-null  datetime64[ns]\n",
      " 1   time       315648 non-null  object        \n",
      " 2   timezone   315648 non-null  object        \n",
      " 3   pred       314864 non-null  float64       \n",
      " 4   act        315278 non-null  float64       \n",
      "dtypes: datetime64[ns](1), float64(2), object(2)\n",
      "memory usage: 12.0+ MB\n"
     ]
    }
   ],
   "metadata": {}
  },
  {
   "cell_type": "markdown",
   "source": [
    "# 4. Control zone: Tennet"
   ],
   "metadata": {}
  },
  {
   "cell_type": "markdown",
   "source": [
    "wind_tennet = pd.read_excel(\"Data/wind_raw_data.xlsx\", sheet_name = 'Tennet', header = 0)\n"
   ],
   "metadata": {}
  },
  {
   "cell_type": "markdown",
   "source": [
    "# 5. Control Zone: TransnetBW"
   ],
   "metadata": {}
  },
  {
   "cell_type": "code",
   "execution_count": null,
   "source": [
    "wind_transnetbw =  pd.read_excel(\"Data/wind_raw_data.xlsx\", sheet_name = 'TransnetBW', header = 0)"
   ],
   "outputs": [],
   "metadata": {}
  },
  {
   "cell_type": "markdown",
   "source": [],
   "metadata": {}
  },
  {
   "cell_type": "code",
   "execution_count": null,
   "source": [],
   "outputs": [],
   "metadata": {}
  }
 ],
 "metadata": {
  "orig_nbformat": 4,
  "language_info": {
   "name": "python",
   "version": "3.8.5",
   "mimetype": "text/x-python",
   "codemirror_mode": {
    "name": "ipython",
    "version": 3
   },
   "pygments_lexer": "ipython3",
   "nbconvert_exporter": "python",
   "file_extension": ".py"
  },
  "kernelspec": {
   "name": "python3",
   "display_name": "Python 3.8.5 64-bit ('capestone': conda)"
  },
  "interpreter": {
   "hash": "f12d3e46a2b36ecb43c582532559cc190f182bd9868a4a47e82f9036042aba7e"
  }
 },
 "nbformat": 4,
 "nbformat_minor": 2
}