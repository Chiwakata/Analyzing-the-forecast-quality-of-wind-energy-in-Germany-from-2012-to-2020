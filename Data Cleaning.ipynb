{
 "cells": [
  {
   "cell_type": "markdown",
   "source": [
    "# Structure of this Notebook:\n",
    "For the analysis, the data regarding actual and forecast wind feed-in was downloaded from the information platform of the four German transmission system operators (TSO): 50Hertz, Amprion, Tennet, and TransnetBW. In Excel, the actual and forecast wind feed-in was combined into an Excel spreadsheet, broken down by the four TSO. Also irrelevant columns like e.g. time to, were removed. \n",
    "\n",
    "In Section 1 the required libraries are imported. \n",
    "\n",
    "\n",
    "In the sections 2 to 5 the wind data from the four control area are prepared for the analysis. \n",
    "The following steps each relate to the data sets of the four TSOs. \n",
    "In section 6 the four data sets are combined into one data set and subjected to further processing."
   ],
   "metadata": {}
  },
  {
   "cell_type": "markdown",
   "source": [
    "# 1. Importing the required libaries"
   ],
   "metadata": {}
  },
  {
   "cell_type": "code",
   "execution_count": 96,
   "source": [
    "# Importing the required libaries\n",
    "import pandas as pd\n",
    "import numpy as np\n",
    "from datetime import datetime , timedelta\n",
    "import sqlalchemy\n",
    "import psycopg2\n",
    "from sql import engine"
   ],
   "outputs": [],
   "metadata": {}
  },
  {
   "cell_type": "markdown",
   "source": [
    "# 2. Loading the data into data frames"
   ],
   "metadata": {}
  },
  {
   "cell_type": "code",
   "execution_count": 112,
   "source": [
    "_50Hertz = pd.read_csv(\"Data/50Hertz.csv\", header = 0, delimiter= ';' , decimal = ',', parse_dates= [['date', 'time']])"
   ],
   "outputs": [],
   "metadata": {}
  },
  {
   "cell_type": "code",
   "execution_count": 113,
   "source": [
    "amprion = pd.read_csv(\"Data/Amprion.csv\", header = 0, delimiter= ';', decimal = ',', parse_dates= [['date', 'time']])"
   ],
   "outputs": [],
   "metadata": {}
  },
  {
   "cell_type": "code",
   "execution_count": 115,
   "source": [
    "tennet = pd.read_csv(\"Data/Tennet.csv\", header = 0, delimiter= ';', decimal = ',', parse_dates= [['date', 'time']])"
   ],
   "outputs": [],
   "metadata": {}
  },
  {
   "cell_type": "code",
   "execution_count": 116,
   "source": [
    "transnetbw = pd.read_csv(\"Data/TransnetBW.csv\", header = 0, delimiter= ';', decimal = ',', parse_dates= [['date', 'time']])"
   ],
   "outputs": [],
   "metadata": {}
  },
  {
   "cell_type": "markdown",
   "source": [
    "# 3. Checking the types of the data and count of observations"
   ],
   "metadata": {}
  },
  {
   "cell_type": "code",
   "execution_count": 117,
   "source": [
    "df_list = [_50Hertz, amprion, tennet, transnetbw] # create a list with the dataframes\n",
    "for df in df_list:\n",
    "    print(df.info())"
   ],
   "outputs": [
    {
     "output_type": "stream",
     "name": "stdout",
     "text": [
      "<class 'pandas.core.frame.DataFrame'>\n",
      "RangeIndex: 315648 entries, 0 to 315647\n",
      "Data columns (total 3 columns):\n",
      " #   Column     Non-Null Count   Dtype         \n",
      "---  ------     --------------   -----         \n",
      " 0   date_time  315648 non-null  datetime64[ns]\n",
      " 1   pred       315064 non-null  float64       \n",
      " 2   act        315585 non-null  float64       \n",
      "dtypes: datetime64[ns](1), float64(2)\n",
      "memory usage: 7.2 MB\n",
      "None\n",
      "<class 'pandas.core.frame.DataFrame'>\n",
      "RangeIndex: 315648 entries, 0 to 315647\n",
      "Data columns (total 3 columns):\n",
      " #   Column     Non-Null Count   Dtype         \n",
      "---  ------     --------------   -----         \n",
      " 0   date_time  315648 non-null  datetime64[ns]\n",
      " 1   pred       314864 non-null  float64       \n",
      " 2   act        315278 non-null  float64       \n",
      "dtypes: datetime64[ns](1), float64(2)\n",
      "memory usage: 7.2 MB\n",
      "None\n",
      "<class 'pandas.core.frame.DataFrame'>\n",
      "RangeIndex: 315648 entries, 0 to 315647\n",
      "Data columns (total 3 columns):\n",
      " #   Column     Non-Null Count   Dtype         \n",
      "---  ------     --------------   -----         \n",
      " 0   date_time  315648 non-null  datetime64[ns]\n",
      " 1   pred       315648 non-null  float64       \n",
      " 2   act        315648 non-null  float64       \n",
      "dtypes: datetime64[ns](1), float64(2)\n",
      "memory usage: 7.2 MB\n",
      "None\n",
      "<class 'pandas.core.frame.DataFrame'>\n",
      "RangeIndex: 315648 entries, 0 to 315647\n",
      "Data columns (total 3 columns):\n",
      " #   Column     Non-Null Count   Dtype         \n",
      "---  ------     --------------   -----         \n",
      " 0   date_time  315648 non-null  datetime64[ns]\n",
      " 1   pred       315246 non-null  float64       \n",
      " 2   act        315328 non-null  float64       \n",
      "dtypes: datetime64[ns](1), float64(2)\n",
      "memory usage: 7.2 MB\n",
      "None\n"
     ]
    }
   ],
   "metadata": {}
  },
  {
   "cell_type": "markdown",
   "source": [
    "# 4. Checking and removing duplicated rows regarding the time change"
   ],
   "metadata": {}
  },
  {
   "cell_type": "code",
   "execution_count": 118,
   "source": [
    "for df in df_list:\n",
    "    print(df[df.duplicated(['date_time'], keep = False)])"
   ],
   "outputs": [
    {
     "output_type": "stream",
     "name": "stdout",
     "text": [
      "                 date_time    pred     act\n",
      "28900  2012-10-28 02:00:00  457.11  345.00\n",
      "28901  2012-10-28 02:15:00  437.22  347.50\n",
      "28902  2012-10-28 02:30:00  427.33  350.00\n",
      "28903  2012-10-28 02:45:00  417.44  352.50\n",
      "28904  2012-10-28 02:00:00  407.56  355.00\n",
      "...                    ...     ...     ...\n",
      "309127 2020-10-25 02:45:00  219.09  238.68\n",
      "309128 2020-10-25 02:00:00  220.56  242.86\n",
      "309129 2020-10-25 02:15:00  222.21  242.04\n",
      "309130 2020-10-25 02:30:00  223.94  240.07\n",
      "309131 2020-10-25 02:45:00  225.84  238.07\n",
      "\n",
      "[72 rows x 3 columns]\n",
      "                 date_time    pred     act\n",
      "28900  2012-10-28 02:00:00   94.13  229.70\n",
      "28901  2012-10-28 02:15:00   94.13  212.01\n",
      "28902  2012-10-28 02:30:00   94.13  208.50\n",
      "28903  2012-10-28 02:45:00   94.13  197.11\n",
      "28904  2012-10-28 02:00:00   81.60  185.00\n",
      "...                    ...     ...     ...\n",
      "309127 2020-10-25 02:45:00  246.00     NaN\n",
      "309128 2020-10-25 02:00:00  246.00  238.00\n",
      "309129 2020-10-25 02:15:00  247.00  237.00\n",
      "309130 2020-10-25 02:30:00  247.00  239.00\n",
      "309131 2020-10-25 02:45:00  248.00  237.00\n",
      "\n",
      "[72 rows x 3 columns]\n",
      "                 date_time   pred     act\n",
      "28900  2012-10-28 02:00:00  184.8  227.23\n",
      "28901  2012-10-28 02:15:00  176.0  221.72\n",
      "28902  2012-10-28 02:30:00  167.2  217.19\n",
      "28903  2012-10-28 02:45:00  157.6  205.00\n",
      "28904  2012-10-28 02:00:00  130.4  205.00\n",
      "...                    ...    ...     ...\n",
      "309127 2020-10-25 02:45:00  299.0  266.67\n",
      "309128 2020-10-25 02:00:00  301.0  273.23\n",
      "309129 2020-10-25 02:15:00  303.0  276.34\n",
      "309130 2020-10-25 02:30:00  304.0  276.70\n",
      "309131 2020-10-25 02:45:00  307.0  272.59\n",
      "\n",
      "[72 rows x 3 columns]\n",
      "                 date_time  pred    act\n",
      "28900  2012-10-28 02:00:00   NaN    NaN\n",
      "28901  2012-10-28 02:15:00   NaN    NaN\n",
      "28902  2012-10-28 02:30:00   NaN    NaN\n",
      "28903  2012-10-28 02:45:00   NaN    NaN\n",
      "28904  2012-10-28 02:00:00   NaN    NaN\n",
      "...                    ...   ...    ...\n",
      "309127 2020-10-25 02:45:00  26.0  24.86\n",
      "309128 2020-10-25 02:00:00  26.0  24.33\n",
      "309129 2020-10-25 02:15:00  27.0  24.14\n",
      "309130 2020-10-25 02:30:00  27.0  26.44\n",
      "309131 2020-10-25 02:45:00  28.0  27.25\n",
      "\n",
      "[72 rows x 3 columns]\n"
     ]
    }
   ],
   "metadata": {}
  },
  {
   "cell_type": "code",
   "execution_count": 119,
   "source": [
    "for df in df_list:\n",
    "    df.drop_duplicates(['date_time'], keep = False, inplace = True)"
   ],
   "outputs": [],
   "metadata": {}
  },
  {
   "cell_type": "markdown",
   "source": [
    "# 5. Checking and handling missing values"
   ],
   "metadata": {}
  },
  {
   "cell_type": "code",
   "execution_count": 120,
   "source": [
    "for df in df_list:\n",
    "    print(df[df.isnull().any(axis=1)])"
   ],
   "outputs": [
    {
     "output_type": "stream",
     "name": "stdout",
     "text": [
      "                 date_time    pred    act\n",
      "172032 2016-11-27 00:00:00     NaN  289.0\n",
      "172033 2016-11-27 00:15:00     NaN  295.0\n",
      "172034 2016-11-27 00:30:00     NaN  300.0\n",
      "172035 2016-11-27 00:45:00     NaN  315.0\n",
      "172036 2016-11-27 01:00:00     NaN  318.0\n",
      "...                    ...     ...    ...\n",
      "311991 2020-11-23 21:45:00  130.69    NaN\n",
      "311993 2020-11-23 22:15:00  124.16    NaN\n",
      "311995 2020-11-23 22:45:00  118.85    NaN\n",
      "311997 2020-11-23 23:15:00  114.05    NaN\n",
      "311999 2020-11-23 23:45:00  109.61    NaN\n",
      "\n",
      "[647 rows x 3 columns]\n",
      "                 date_time    pred  act\n",
      "4532   2012-02-17 05:00:00  516.66  NaN\n",
      "6295   2012-06-03 13:45:00  161.64  NaN\n",
      "7750   2012-03-21 17:30:00  127.04  NaN\n",
      "8006   2012-03-24 09:30:00   44.97  NaN\n",
      "9004   2012-03-04 20:00:00  118.80  NaN\n",
      "...                    ...     ...  ...\n",
      "303303 2020-08-25 10:45:00   40.00  NaN\n",
      "305457 2020-09-16 21:15:00   69.00  NaN\n",
      "311250 2020-11-16 04:30:00  254.00  NaN\n",
      "311251 2020-11-16 04:45:00  252.00  NaN\n",
      "311252 2020-11-16 05:00:00  251.00  NaN\n",
      "\n",
      "[1118 rows x 3 columns]\n",
      "Empty DataFrame\n",
      "Columns: [date_time, pred, act]\n",
      "Index: []\n",
      "                 date_time   pred   act\n",
      "20636  2012-03-08 00:00:00    NaN  6.99\n",
      "20637  2012-03-08 00:15:00    NaN  7.91\n",
      "20638  2012-03-08 00:30:00    NaN  8.13\n",
      "20639  2012-03-08 00:45:00    NaN  6.75\n",
      "20640  2012-03-08 01:00:00    NaN  7.06\n",
      "...                    ...    ...   ...\n",
      "275326 2019-07-11 23:30:00  10.48   NaN\n",
      "275327 2019-07-11 23:45:00  10.72   NaN\n",
      "275710 2019-11-11 23:30:00  50.52   NaN\n",
      "275711 2019-11-11 23:45:00  50.17   NaN\n",
      "285311 2020-02-19 23:45:00  49.00   NaN\n",
      "\n",
      "[698 rows x 3 columns]\n"
     ]
    }
   ],
   "metadata": {}
  },
  {
   "cell_type": "code",
   "execution_count": 121,
   "source": [
    "#Print the number of missing values per columns\n",
    "for df in df_list:\n",
    "    print(df.isnull().sum(),\"\\n\")"
   ],
   "outputs": [
    {
     "output_type": "stream",
     "name": "stdout",
     "text": [
      "date_time      0\n",
      "pred         584\n",
      "act           63\n",
      "dtype: int64 \n",
      "\n",
      "date_time      0\n",
      "pred         772\n",
      "act          346\n",
      "dtype: int64 \n",
      "\n",
      "date_time    0\n",
      "pred         0\n",
      "act          0\n",
      "dtype: int64 \n",
      "\n",
      "date_time      0\n",
      "pred         386\n",
      "act          312\n",
      "dtype: int64 \n",
      "\n"
     ]
    }
   ],
   "metadata": {}
  },
  {
   "cell_type": "code",
   "execution_count": 122,
   "source": [
    "#Replace the missing values with the forward fill method\n",
    "for df in df_list:\n",
    "    df['pred'].replace(to_replace = np.nan, method = 'ffill', inplace = True)\n",
    "    df['act'].replace(to_replace = np.nan, method = 'ffill', inplace = True)"
   ],
   "outputs": [],
   "metadata": {}
  },
  {
   "cell_type": "code",
   "execution_count": 123,
   "source": [
    "for df in df_list:\n",
    "    print(df.info())"
   ],
   "outputs": [
    {
     "output_type": "stream",
     "name": "stdout",
     "text": [
      "<class 'pandas.core.frame.DataFrame'>\n",
      "Int64Index: 315576 entries, 0 to 315647\n",
      "Data columns (total 3 columns):\n",
      " #   Column     Non-Null Count   Dtype         \n",
      "---  ------     --------------   -----         \n",
      " 0   date_time  315576 non-null  datetime64[ns]\n",
      " 1   pred       315576 non-null  float64       \n",
      " 2   act        315576 non-null  float64       \n",
      "dtypes: datetime64[ns](1), float64(2)\n",
      "memory usage: 9.6 MB\n",
      "None\n",
      "<class 'pandas.core.frame.DataFrame'>\n",
      "Int64Index: 315576 entries, 0 to 315647\n",
      "Data columns (total 3 columns):\n",
      " #   Column     Non-Null Count   Dtype         \n",
      "---  ------     --------------   -----         \n",
      " 0   date_time  315576 non-null  datetime64[ns]\n",
      " 1   pred       315576 non-null  float64       \n",
      " 2   act        315576 non-null  float64       \n",
      "dtypes: datetime64[ns](1), float64(2)\n",
      "memory usage: 9.6 MB\n",
      "None\n",
      "<class 'pandas.core.frame.DataFrame'>\n",
      "Int64Index: 315576 entries, 0 to 315647\n",
      "Data columns (total 3 columns):\n",
      " #   Column     Non-Null Count   Dtype         \n",
      "---  ------     --------------   -----         \n",
      " 0   date_time  315576 non-null  datetime64[ns]\n",
      " 1   pred       315576 non-null  float64       \n",
      " 2   act        315576 non-null  float64       \n",
      "dtypes: datetime64[ns](1), float64(2)\n",
      "memory usage: 9.6 MB\n",
      "None\n",
      "<class 'pandas.core.frame.DataFrame'>\n",
      "Int64Index: 315576 entries, 0 to 315647\n",
      "Data columns (total 3 columns):\n",
      " #   Column     Non-Null Count   Dtype         \n",
      "---  ------     --------------   -----         \n",
      " 0   date_time  315576 non-null  datetime64[ns]\n",
      " 1   pred       315576 non-null  float64       \n",
      " 2   act        315576 non-null  float64       \n",
      "dtypes: datetime64[ns](1), float64(2)\n",
      "memory usage: 9.6 MB\n",
      "None\n"
     ]
    }
   ],
   "metadata": {}
  },
  {
   "cell_type": "markdown",
   "source": [
    "# 6.Transforming the data set in hourly"
   ],
   "metadata": {}
  },
  {
   "cell_type": "code",
   "execution_count": 124,
   "source": [
    "for df in df_list:\n",
    "   df.set_index('date_time', inplace = True)\n"
   ],
   "outputs": [],
   "metadata": {}
  },
  {
   "cell_type": "code",
   "execution_count": 126,
   "source": [
    "_50Hertz = _50Hertz.resample('H').sum()"
   ],
   "outputs": [],
   "metadata": {}
  },
  {
   "cell_type": "code",
   "execution_count": 127,
   "source": [
    "_50Hertz"
   ],
   "outputs": [
    {
     "output_type": "execute_result",
     "data": {
      "text/html": [
       "<div>\n",
       "<style scoped>\n",
       "    .dataframe tbody tr th:only-of-type {\n",
       "        vertical-align: middle;\n",
       "    }\n",
       "\n",
       "    .dataframe tbody tr th {\n",
       "        vertical-align: top;\n",
       "    }\n",
       "\n",
       "    .dataframe thead th {\n",
       "        text-align: right;\n",
       "    }\n",
       "</style>\n",
       "<table border=\"1\" class=\"dataframe\">\n",
       "  <thead>\n",
       "    <tr style=\"text-align: right;\">\n",
       "      <th></th>\n",
       "      <th>pred</th>\n",
       "      <th>act</th>\n",
       "    </tr>\n",
       "    <tr>\n",
       "      <th>date_time</th>\n",
       "      <th></th>\n",
       "      <th></th>\n",
       "    </tr>\n",
       "  </thead>\n",
       "  <tbody>\n",
       "    <tr>\n",
       "      <th>2012-01-01 00:00:00</th>\n",
       "      <td>4344.00</td>\n",
       "      <td>3483.00</td>\n",
       "    </tr>\n",
       "    <tr>\n",
       "      <th>2012-01-01 01:00:00</th>\n",
       "      <td>4496.00</td>\n",
       "      <td>3319.00</td>\n",
       "    </tr>\n",
       "    <tr>\n",
       "      <th>2012-01-01 02:00:00</th>\n",
       "      <td>4765.00</td>\n",
       "      <td>3319.00</td>\n",
       "    </tr>\n",
       "    <tr>\n",
       "      <th>2012-01-01 03:00:00</th>\n",
       "      <td>5004.00</td>\n",
       "      <td>3575.00</td>\n",
       "    </tr>\n",
       "    <tr>\n",
       "      <th>2012-01-01 04:00:00</th>\n",
       "      <td>5321.00</td>\n",
       "      <td>3820.00</td>\n",
       "    </tr>\n",
       "    <tr>\n",
       "      <th>...</th>\n",
       "      <td>...</td>\n",
       "      <td>...</td>\n",
       "    </tr>\n",
       "    <tr>\n",
       "      <th>2020-12-31 19:00:00</th>\n",
       "      <td>536.93</td>\n",
       "      <td>448.29</td>\n",
       "    </tr>\n",
       "    <tr>\n",
       "      <th>2020-12-31 20:00:00</th>\n",
       "      <td>508.38</td>\n",
       "      <td>380.82</td>\n",
       "    </tr>\n",
       "    <tr>\n",
       "      <th>2020-12-31 21:00:00</th>\n",
       "      <td>467.60</td>\n",
       "      <td>332.14</td>\n",
       "    </tr>\n",
       "    <tr>\n",
       "      <th>2020-12-31 22:00:00</th>\n",
       "      <td>429.52</td>\n",
       "      <td>296.29</td>\n",
       "    </tr>\n",
       "    <tr>\n",
       "      <th>2020-12-31 23:00:00</th>\n",
       "      <td>394.04</td>\n",
       "      <td>264.40</td>\n",
       "    </tr>\n",
       "  </tbody>\n",
       "</table>\n",
       "<p>78912 rows × 2 columns</p>\n",
       "</div>"
      ],
      "text/plain": [
       "                        pred      act\n",
       "date_time                            \n",
       "2012-01-01 00:00:00  4344.00  3483.00\n",
       "2012-01-01 01:00:00  4496.00  3319.00\n",
       "2012-01-01 02:00:00  4765.00  3319.00\n",
       "2012-01-01 03:00:00  5004.00  3575.00\n",
       "2012-01-01 04:00:00  5321.00  3820.00\n",
       "...                      ...      ...\n",
       "2020-12-31 19:00:00   536.93   448.29\n",
       "2020-12-31 20:00:00   508.38   380.82\n",
       "2020-12-31 21:00:00   467.60   332.14\n",
       "2020-12-31 22:00:00   429.52   296.29\n",
       "2020-12-31 23:00:00   394.04   264.40\n",
       "\n",
       "[78912 rows x 2 columns]"
      ]
     },
     "metadata": {},
     "execution_count": 127
    }
   ],
   "metadata": {}
  },
  {
   "cell_type": "code",
   "execution_count": null,
   "source": [
    "amprion.resample('H').sum()"
   ],
   "outputs": [],
   "metadata": {}
  },
  {
   "cell_type": "code",
   "execution_count": null,
   "source": [],
   "outputs": [],
   "metadata": {}
  },
  {
   "cell_type": "code",
   "execution_count": 128,
   "source": [
    "amprion = amprion.resample('H').sum()\n",
    "tennet = tennet.resample('H').sum()\n",
    "transnetbw =transnetbw.resample('H').sum()"
   ],
   "outputs": [],
   "metadata": {}
  },
  {
   "cell_type": "code",
   "execution_count": 129,
   "source": [
    "df_list = [_50Hertz, amprion, tennet, transnetbw]"
   ],
   "outputs": [],
   "metadata": {}
  },
  {
   "cell_type": "markdown",
   "source": [
    "# 7. Adding the control zone"
   ],
   "metadata": {}
  },
  {
   "cell_type": "code",
   "execution_count": 130,
   "source": [
    "for df in df_list:\n",
    "    if df is _50Hertz:\n",
    "        df['control_zone'] = '50Hertz'\n",
    "    elif df is amprion:\n",
    "        df['control_zone'] = 'Amprion'\n",
    "    elif df is tennet:\n",
    "        df['control_zone'] = 'Tennet'\n",
    "    else:\n",
    "        df['control_zone'] = 'TransnetBW'"
   ],
   "outputs": [],
   "metadata": {}
  },
  {
   "cell_type": "code",
   "execution_count": 131,
   "source": [
    "for df in df_list:\n",
    "    print(df.head())"
   ],
   "outputs": [
    {
     "output_type": "stream",
     "name": "stdout",
     "text": [
      "                       pred     act control_zone\n",
      "date_time                                       \n",
      "2012-01-01 00:00:00  4344.0  3483.0      50Hertz\n",
      "2012-01-01 01:00:00  4496.0  3319.0      50Hertz\n",
      "2012-01-01 02:00:00  4765.0  3319.0      50Hertz\n",
      "2012-01-01 03:00:00  5004.0  3575.0      50Hertz\n",
      "2012-01-01 04:00:00  5321.0  3820.0      50Hertz\n",
      "                       pred     act control_zone\n",
      "date_time                                       \n",
      "2012-01-01 00:00:00  5024.0  6166.0      Amprion\n",
      "2012-01-01 01:00:00  4876.0  6191.0      Amprion\n",
      "2012-01-01 02:00:00  4944.0  6600.0      Amprion\n",
      "2012-01-01 03:00:00  5012.0  6569.0      Amprion\n",
      "2012-01-01 04:00:00  5124.0  6837.0      Amprion\n",
      "                        pred      act control_zone\n",
      "date_time                                         \n",
      "2012-01-01 00:00:00  2943.08  3101.94       Tennet\n",
      "2012-01-01 01:00:00  3310.20  3499.41       Tennet\n",
      "2012-01-01 02:00:00  3714.40  4342.17       Tennet\n",
      "2012-01-01 03:00:00  4132.28  5288.10       Tennet\n",
      "2012-01-01 04:00:00  4566.36  5774.19       Tennet\n",
      "                      pred    act control_zone\n",
      "date_time                                     \n",
      "2012-01-01 00:00:00  348.0  716.2   TransnetBW\n",
      "2012-01-01 01:00:00  274.0  590.7   TransnetBW\n",
      "2012-01-01 02:00:00  293.0  431.3   TransnetBW\n",
      "2012-01-01 03:00:00  326.0  533.7   TransnetBW\n",
      "2012-01-01 04:00:00  338.0  615.3   TransnetBW\n"
     ]
    }
   ],
   "metadata": {}
  },
  {
   "cell_type": "code",
   "execution_count": 146,
   "source": [
    "for df in df_list:\n",
    "    df['forecast error'] = df['pred'] - df['act']\n",
    "print(f'{df}')\n"
   ],
   "outputs": [
    {
     "output_type": "stream",
     "name": "stdout",
     "text": [
      "                      pred     act control_zone  forecast error\n",
      "date_time                                                      \n",
      "2012-01-01 00:00:00  348.0  716.20   TransnetBW         -368.20\n",
      "2012-01-01 01:00:00  274.0  590.70   TransnetBW         -316.70\n",
      "2012-01-01 02:00:00  293.0  431.30   TransnetBW         -138.30\n",
      "2012-01-01 03:00:00  326.0  533.70   TransnetBW         -207.70\n",
      "2012-01-01 04:00:00  338.0  615.30   TransnetBW         -277.30\n",
      "...                    ...     ...          ...             ...\n",
      "2020-12-31 19:00:00  112.0   92.16   TransnetBW           19.84\n",
      "2020-12-31 20:00:00  112.0  106.32   TransnetBW            5.68\n",
      "2020-12-31 21:00:00  110.0  114.34   TransnetBW           -4.34\n",
      "2020-12-31 22:00:00  108.0  121.78   TransnetBW          -13.78\n",
      "2020-12-31 23:00:00  104.0  108.67   TransnetBW           -4.67\n",
      "\n",
      "[78912 rows x 4 columns]\n"
     ]
    }
   ],
   "metadata": {}
  },
  {
   "cell_type": "code",
   "execution_count": 142,
   "source": [
    "print(f'{pd.concat([amprion.head(), amprion.tail()])}')"
   ],
   "outputs": [
    {
     "output_type": "stream",
     "name": "stdout",
     "text": [
      "                       pred     act control_zone  forecast error\n",
      "date_time                                                       \n",
      "2012-01-01 00:00:00  5024.0  6166.0      Amprion         -1142.0\n",
      "2012-01-01 01:00:00  4876.0  6191.0      Amprion         -1315.0\n",
      "2012-01-01 02:00:00  4944.0  6600.0      Amprion         -1656.0\n",
      "2012-01-01 03:00:00  5012.0  6569.0      Amprion         -1557.0\n",
      "2012-01-01 04:00:00  5124.0  6837.0      Amprion         -1713.0\n",
      "2020-12-31 19:00:00   102.0    31.0      Amprion            71.0\n",
      "2020-12-31 20:00:00    88.0    33.0      Amprion            55.0\n",
      "2020-12-31 21:00:00    80.0    33.0      Amprion            47.0\n",
      "2020-12-31 22:00:00    82.0    25.0      Amprion            57.0\n",
      "2020-12-31 23:00:00    83.0    34.0      Amprion            49.0\n"
     ]
    }
   ],
   "metadata": {}
  },
  {
   "cell_type": "code",
   "execution_count": 147,
   "source": [],
   "outputs": [
    {
     "output_type": "execute_result",
     "data": {
      "text/html": [
       "<div>\n",
       "<style scoped>\n",
       "    .dataframe tbody tr th:only-of-type {\n",
       "        vertical-align: middle;\n",
       "    }\n",
       "\n",
       "    .dataframe tbody tr th {\n",
       "        vertical-align: top;\n",
       "    }\n",
       "\n",
       "    .dataframe thead th {\n",
       "        text-align: right;\n",
       "    }\n",
       "</style>\n",
       "<table border=\"1\" class=\"dataframe\">\n",
       "  <thead>\n",
       "    <tr style=\"text-align: right;\">\n",
       "      <th></th>\n",
       "      <th>pred</th>\n",
       "      <th>act</th>\n",
       "      <th>forecast error</th>\n",
       "    </tr>\n",
       "  </thead>\n",
       "  <tbody>\n",
       "    <tr>\n",
       "      <th>count</th>\n",
       "      <td>3.156480e+05</td>\n",
       "      <td>315648.000000</td>\n",
       "      <td>315648.000000</td>\n",
       "    </tr>\n",
       "    <tr>\n",
       "      <th>mean</th>\n",
       "      <td>6.755869e+02</td>\n",
       "      <td>721.133918</td>\n",
       "      <td>-45.547006</td>\n",
       "    </tr>\n",
       "    <tr>\n",
       "      <th>std</th>\n",
       "      <td>1.183814e+03</td>\n",
       "      <td>1258.595630</td>\n",
       "      <td>314.473896</td>\n",
       "    </tr>\n",
       "    <tr>\n",
       "      <th>min</th>\n",
       "      <td>-6.661338e-16</td>\n",
       "      <td>0.000000</td>\n",
       "      <td>-9437.000000</td>\n",
       "    </tr>\n",
       "    <tr>\n",
       "      <th>25%</th>\n",
       "      <td>1.131875e+02</td>\n",
       "      <td>107.000000</td>\n",
       "      <td>-92.100000</td>\n",
       "    </tr>\n",
       "    <tr>\n",
       "      <th>50%</th>\n",
       "      <td>3.168000e+02</td>\n",
       "      <td>323.790000</td>\n",
       "      <td>-6.000000</td>\n",
       "    </tr>\n",
       "    <tr>\n",
       "      <th>75%</th>\n",
       "      <td>7.970000e+02</td>\n",
       "      <td>856.705000</td>\n",
       "      <td>41.150000</td>\n",
       "    </tr>\n",
       "    <tr>\n",
       "      <th>max</th>\n",
       "      <td>2.476300e+04</td>\n",
       "      <td>25446.000000</td>\n",
       "      <td>7518.170000</td>\n",
       "    </tr>\n",
       "  </tbody>\n",
       "</table>\n",
       "</div>"
      ],
      "text/plain": [
       "               pred            act  forecast error\n",
       "count  3.156480e+05  315648.000000   315648.000000\n",
       "mean   6.755869e+02     721.133918      -45.547006\n",
       "std    1.183814e+03    1258.595630      314.473896\n",
       "min   -6.661338e-16       0.000000    -9437.000000\n",
       "25%    1.131875e+02     107.000000      -92.100000\n",
       "50%    3.168000e+02     323.790000       -6.000000\n",
       "75%    7.970000e+02     856.705000       41.150000\n",
       "max    2.476300e+04   25446.000000     7518.170000"
      ]
     },
     "metadata": {},
     "execution_count": 147
    }
   ],
   "metadata": {}
  },
  {
   "cell_type": "markdown",
   "source": [
    "# 6. Final Data Set"
   ],
   "metadata": {}
  },
  {
   "cell_type": "markdown",
   "source": [
    "## 6.1 Combining the DataFrames"
   ],
   "metadata": {}
  },
  {
   "cell_type": "code",
   "execution_count": 132,
   "source": [
    "wind = pd.concat(df_list, axis = 0)"
   ],
   "outputs": [],
   "metadata": {}
  },
  {
   "cell_type": "code",
   "execution_count": 133,
   "source": [
    "wind"
   ],
   "outputs": [
    {
     "output_type": "execute_result",
     "data": {
      "text/html": [
       "<div>\n",
       "<style scoped>\n",
       "    .dataframe tbody tr th:only-of-type {\n",
       "        vertical-align: middle;\n",
       "    }\n",
       "\n",
       "    .dataframe tbody tr th {\n",
       "        vertical-align: top;\n",
       "    }\n",
       "\n",
       "    .dataframe thead th {\n",
       "        text-align: right;\n",
       "    }\n",
       "</style>\n",
       "<table border=\"1\" class=\"dataframe\">\n",
       "  <thead>\n",
       "    <tr style=\"text-align: right;\">\n",
       "      <th></th>\n",
       "      <th>pred</th>\n",
       "      <th>act</th>\n",
       "      <th>control_zone</th>\n",
       "    </tr>\n",
       "    <tr>\n",
       "      <th>date_time</th>\n",
       "      <th></th>\n",
       "      <th></th>\n",
       "      <th></th>\n",
       "    </tr>\n",
       "  </thead>\n",
       "  <tbody>\n",
       "    <tr>\n",
       "      <th>2012-01-01 00:00:00</th>\n",
       "      <td>4344.0</td>\n",
       "      <td>3483.00</td>\n",
       "      <td>50Hertz</td>\n",
       "    </tr>\n",
       "    <tr>\n",
       "      <th>2012-01-01 01:00:00</th>\n",
       "      <td>4496.0</td>\n",
       "      <td>3319.00</td>\n",
       "      <td>50Hertz</td>\n",
       "    </tr>\n",
       "    <tr>\n",
       "      <th>2012-01-01 02:00:00</th>\n",
       "      <td>4765.0</td>\n",
       "      <td>3319.00</td>\n",
       "      <td>50Hertz</td>\n",
       "    </tr>\n",
       "    <tr>\n",
       "      <th>2012-01-01 03:00:00</th>\n",
       "      <td>5004.0</td>\n",
       "      <td>3575.00</td>\n",
       "      <td>50Hertz</td>\n",
       "    </tr>\n",
       "    <tr>\n",
       "      <th>2012-01-01 04:00:00</th>\n",
       "      <td>5321.0</td>\n",
       "      <td>3820.00</td>\n",
       "      <td>50Hertz</td>\n",
       "    </tr>\n",
       "    <tr>\n",
       "      <th>...</th>\n",
       "      <td>...</td>\n",
       "      <td>...</td>\n",
       "      <td>...</td>\n",
       "    </tr>\n",
       "    <tr>\n",
       "      <th>2020-12-31 19:00:00</th>\n",
       "      <td>112.0</td>\n",
       "      <td>92.16</td>\n",
       "      <td>TransnetBW</td>\n",
       "    </tr>\n",
       "    <tr>\n",
       "      <th>2020-12-31 20:00:00</th>\n",
       "      <td>112.0</td>\n",
       "      <td>106.32</td>\n",
       "      <td>TransnetBW</td>\n",
       "    </tr>\n",
       "    <tr>\n",
       "      <th>2020-12-31 21:00:00</th>\n",
       "      <td>110.0</td>\n",
       "      <td>114.34</td>\n",
       "      <td>TransnetBW</td>\n",
       "    </tr>\n",
       "    <tr>\n",
       "      <th>2020-12-31 22:00:00</th>\n",
       "      <td>108.0</td>\n",
       "      <td>121.78</td>\n",
       "      <td>TransnetBW</td>\n",
       "    </tr>\n",
       "    <tr>\n",
       "      <th>2020-12-31 23:00:00</th>\n",
       "      <td>104.0</td>\n",
       "      <td>108.67</td>\n",
       "      <td>TransnetBW</td>\n",
       "    </tr>\n",
       "  </tbody>\n",
       "</table>\n",
       "<p>315648 rows × 3 columns</p>\n",
       "</div>"
      ],
      "text/plain": [
       "                       pred      act control_zone\n",
       "date_time                                        \n",
       "2012-01-01 00:00:00  4344.0  3483.00      50Hertz\n",
       "2012-01-01 01:00:00  4496.0  3319.00      50Hertz\n",
       "2012-01-01 02:00:00  4765.0  3319.00      50Hertz\n",
       "2012-01-01 03:00:00  5004.0  3575.00      50Hertz\n",
       "2012-01-01 04:00:00  5321.0  3820.00      50Hertz\n",
       "...                     ...      ...          ...\n",
       "2020-12-31 19:00:00   112.0    92.16   TransnetBW\n",
       "2020-12-31 20:00:00   112.0   106.32   TransnetBW\n",
       "2020-12-31 21:00:00   110.0   114.34   TransnetBW\n",
       "2020-12-31 22:00:00   108.0   121.78   TransnetBW\n",
       "2020-12-31 23:00:00   104.0   108.67   TransnetBW\n",
       "\n",
       "[315648 rows x 3 columns]"
      ]
     },
     "metadata": {},
     "execution_count": 133
    }
   ],
   "metadata": {}
  },
  {
   "cell_type": "markdown",
   "source": [
    "## 6.2. Calculating the Forecast Error"
   ],
   "metadata": {}
  },
  {
   "cell_type": "code",
   "execution_count": 134,
   "source": [
    "wind['forecast error'] = wind['pred'] - wind['act']"
   ],
   "outputs": [],
   "metadata": {}
  },
  {
   "cell_type": "markdown",
   "source": [
    "## 6.3 Resetting the Datetime Index"
   ],
   "metadata": {}
  },
  {
   "cell_type": "code",
   "execution_count": 135,
   "source": [
    "wind = wind.reset_index(drop=False)\n",
    "wind.head()"
   ],
   "outputs": [
    {
     "output_type": "execute_result",
     "data": {
      "text/html": [
       "<div>\n",
       "<style scoped>\n",
       "    .dataframe tbody tr th:only-of-type {\n",
       "        vertical-align: middle;\n",
       "    }\n",
       "\n",
       "    .dataframe tbody tr th {\n",
       "        vertical-align: top;\n",
       "    }\n",
       "\n",
       "    .dataframe thead th {\n",
       "        text-align: right;\n",
       "    }\n",
       "</style>\n",
       "<table border=\"1\" class=\"dataframe\">\n",
       "  <thead>\n",
       "    <tr style=\"text-align: right;\">\n",
       "      <th></th>\n",
       "      <th>date_time</th>\n",
       "      <th>pred</th>\n",
       "      <th>act</th>\n",
       "      <th>control_zone</th>\n",
       "      <th>forecast error</th>\n",
       "    </tr>\n",
       "  </thead>\n",
       "  <tbody>\n",
       "    <tr>\n",
       "      <th>0</th>\n",
       "      <td>2012-01-01 00:00:00</td>\n",
       "      <td>4344.0</td>\n",
       "      <td>3483.0</td>\n",
       "      <td>50Hertz</td>\n",
       "      <td>861.0</td>\n",
       "    </tr>\n",
       "    <tr>\n",
       "      <th>1</th>\n",
       "      <td>2012-01-01 01:00:00</td>\n",
       "      <td>4496.0</td>\n",
       "      <td>3319.0</td>\n",
       "      <td>50Hertz</td>\n",
       "      <td>1177.0</td>\n",
       "    </tr>\n",
       "    <tr>\n",
       "      <th>2</th>\n",
       "      <td>2012-01-01 02:00:00</td>\n",
       "      <td>4765.0</td>\n",
       "      <td>3319.0</td>\n",
       "      <td>50Hertz</td>\n",
       "      <td>1446.0</td>\n",
       "    </tr>\n",
       "    <tr>\n",
       "      <th>3</th>\n",
       "      <td>2012-01-01 03:00:00</td>\n",
       "      <td>5004.0</td>\n",
       "      <td>3575.0</td>\n",
       "      <td>50Hertz</td>\n",
       "      <td>1429.0</td>\n",
       "    </tr>\n",
       "    <tr>\n",
       "      <th>4</th>\n",
       "      <td>2012-01-01 04:00:00</td>\n",
       "      <td>5321.0</td>\n",
       "      <td>3820.0</td>\n",
       "      <td>50Hertz</td>\n",
       "      <td>1501.0</td>\n",
       "    </tr>\n",
       "  </tbody>\n",
       "</table>\n",
       "</div>"
      ],
      "text/plain": [
       "            date_time    pred     act control_zone  forecast error\n",
       "0 2012-01-01 00:00:00  4344.0  3483.0      50Hertz           861.0\n",
       "1 2012-01-01 01:00:00  4496.0  3319.0      50Hertz          1177.0\n",
       "2 2012-01-01 02:00:00  4765.0  3319.0      50Hertz          1446.0\n",
       "3 2012-01-01 03:00:00  5004.0  3575.0      50Hertz          1429.0\n",
       "4 2012-01-01 04:00:00  5321.0  3820.0      50Hertz          1501.0"
      ]
     },
     "metadata": {},
     "execution_count": 135
    }
   ],
   "metadata": {}
  },
  {
   "cell_type": "markdown",
   "source": [
    "# 7. Pushing the the prepared data to a table in the database"
   ],
   "metadata": {}
  },
  {
   "cell_type": "code",
   "execution_count": 137,
   "source": [
    "table_name = 'wind_LC'\n",
    "wind.to_sql(table, engine, index=False, if_exists=\"replace\", \n",
    "    method='multi', chunksize=5000)\n",
    "print(f\"The {table_name} table was imported successfully.\")"
   ],
   "outputs": [
    {
     "output_type": "stream",
     "name": "stdout",
     "text": [
      "The wind_LC table was imported successfully.\n"
     ]
    }
   ],
   "metadata": {}
  }
 ],
 "metadata": {
  "orig_nbformat": 4,
  "language_info": {
   "name": "python",
   "version": "3.8.5",
   "mimetype": "text/x-python",
   "codemirror_mode": {
    "name": "ipython",
    "version": 3
   },
   "pygments_lexer": "ipython3",
   "nbconvert_exporter": "python",
   "file_extension": ".py"
  },
  "kernelspec": {
   "name": "python3",
   "display_name": "Python 3.8.5 64-bit ('capestone': conda)"
  },
  "interpreter": {
   "hash": "f12d3e46a2b36ecb43c582532559cc190f182bd9868a4a47e82f9036042aba7e"
  }
 },
 "nbformat": 4,
 "nbformat_minor": 2
}