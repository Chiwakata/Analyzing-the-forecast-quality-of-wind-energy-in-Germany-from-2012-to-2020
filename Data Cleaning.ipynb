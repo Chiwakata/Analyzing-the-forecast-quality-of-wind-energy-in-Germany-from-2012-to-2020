{
 "cells": [
  {
   "cell_type": "code",
   "execution_count": null,
   "source": [],
   "outputs": [],
   "metadata": {}
  }
 ],
 "metadata": {
  "orig_nbformat": 4,
  "language_info": {
   "name": "python",
   "version": "3.8.5"
  },
  "kernelspec": {
   "name": "python3",
   "display_name": "Python 3.8.5 64-bit ('capestone': conda)"
  },
  "interpreter": {
   "hash": "f12d3e46a2b36ecb43c582532559cc190f182bd9868a4a47e82f9036042aba7e"
  }
 },
 "nbformat": 4,
 "nbformat_minor": 2
}