{
 "cells": [
  {
   "cell_type": "markdown",
   "source": [
    "# Structure of this Notebook:\n",
    "For the analysis, the data regarding actual and forecast wind feed-in was downloaded from the information platform of the four German transmission system operators (TSO). In Excel, the actual and forecast wind feed-in was combined into an Excel spreadsheet, broken down by the four TSO. Also irrelevant columns like e.g. time to, were removed. \n",
    "\n",
    "In Section 1 the required libraries are imported. \n",
    "\n",
    "\n",
    "In the sections 2 to 5 the wind data from the four control area are prepared for the analysis. \n",
    "The following steps each relate to the data sets of the four TSOs:In this context. \n",
    "In section 6 the four data sets are combined into one data set and subjected to further processing. cd"
   ],
   "metadata": {}
  },
  {
   "cell_type": "markdown",
   "source": [
    "# 1. Importing the required libaries"
   ],
   "metadata": {}
  },
  {
   "cell_type": "code",
   "execution_count": 293,
   "source": [
    "# Importing the required libaries\n",
    "import pandas as pd\n",
    "import numpy as np\n",
    "import seaborn as sns #visualization\n",
    "import matplotlib.pyplot as plt #visualization\n",
    "from datetime import datetime , timedelta\n",
    "import sqlalchemy\n",
    "import psycopg2\n",
    "from sql import engine"
   ],
   "outputs": [],
   "metadata": {}
  },
  {
   "cell_type": "markdown",
   "source": [
    "# 2. Control area: 50Hertz"
   ],
   "metadata": {}
  },
  {
   "cell_type": "markdown",
   "source": [
    "## 2.1 Loading the data into data frames"
   ],
   "metadata": {}
  },
  {
   "cell_type": "code",
   "execution_count": 294,
   "source": [
    "wind_50Hertz= pd.read_excel(\"Data/wind_raw_data.xlsx\", sheet_name = '50Hertz', header = 0, parse_dates= [['date', 'time']])"
   ],
   "outputs": [],
   "metadata": {}
  },
  {
   "cell_type": "markdown",
   "source": [
    "## 2.2 Checking the types of the data and count of observations"
   ],
   "metadata": {}
  },
  {
   "cell_type": "code",
   "execution_count": 295,
   "source": [
    "wind_50Hertz.info()"
   ],
   "outputs": [
    {
     "output_type": "stream",
     "name": "stdout",
     "text": [
      "<class 'pandas.core.frame.DataFrame'>\n",
      "RangeIndex: 315648 entries, 0 to 315647\n",
      "Data columns (total 4 columns):\n",
      " #   Column     Non-Null Count   Dtype         \n",
      "---  ------     --------------   -----         \n",
      " 0   date_time  315648 non-null  datetime64[ns]\n",
      " 1   timezone   315648 non-null  object        \n",
      " 2   pred       315064 non-null  float64       \n",
      " 3   act        315585 non-null  float64       \n",
      "dtypes: datetime64[ns](1), float64(2), object(1)\n",
      "memory usage: 9.6+ MB\n"
     ]
    }
   ],
   "metadata": {}
  },
  {
   "cell_type": "markdown",
   "source": [
    "## 2.3 Checking and removing duplicated rows regarding the time change"
   ],
   "metadata": {}
  },
  {
   "cell_type": "code",
   "execution_count": 296,
   "source": [
    "wind_50Hertz[wind_50Hertz.duplicated(['date_time'], keep = False)]"
   ],
   "outputs": [
    {
     "output_type": "execute_result",
     "data": {
      "text/html": [
       "<div>\n",
       "<style scoped>\n",
       "    .dataframe tbody tr th:only-of-type {\n",
       "        vertical-align: middle;\n",
       "    }\n",
       "\n",
       "    .dataframe tbody tr th {\n",
       "        vertical-align: top;\n",
       "    }\n",
       "\n",
       "    .dataframe thead th {\n",
       "        text-align: right;\n",
       "    }\n",
       "</style>\n",
       "<table border=\"1\" class=\"dataframe\">\n",
       "  <thead>\n",
       "    <tr style=\"text-align: right;\">\n",
       "      <th></th>\n",
       "      <th>date_time</th>\n",
       "      <th>timezone</th>\n",
       "      <th>pred</th>\n",
       "      <th>act</th>\n",
       "    </tr>\n",
       "  </thead>\n",
       "  <tbody>\n",
       "    <tr>\n",
       "      <th>28900</th>\n",
       "      <td>2012-10-28 02:00:00</td>\n",
       "      <td>CEST</td>\n",
       "      <td>457.11</td>\n",
       "      <td>345.00</td>\n",
       "    </tr>\n",
       "    <tr>\n",
       "      <th>28901</th>\n",
       "      <td>2012-10-28 02:15:00</td>\n",
       "      <td>CEST</td>\n",
       "      <td>437.22</td>\n",
       "      <td>347.50</td>\n",
       "    </tr>\n",
       "    <tr>\n",
       "      <th>28902</th>\n",
       "      <td>2012-10-28 02:30:00</td>\n",
       "      <td>CEST</td>\n",
       "      <td>427.33</td>\n",
       "      <td>350.00</td>\n",
       "    </tr>\n",
       "    <tr>\n",
       "      <th>28903</th>\n",
       "      <td>2012-10-28 02:45:00</td>\n",
       "      <td>CEST</td>\n",
       "      <td>417.44</td>\n",
       "      <td>352.50</td>\n",
       "    </tr>\n",
       "    <tr>\n",
       "      <th>28904</th>\n",
       "      <td>2012-10-28 02:00:00</td>\n",
       "      <td>CET</td>\n",
       "      <td>407.56</td>\n",
       "      <td>355.00</td>\n",
       "    </tr>\n",
       "    <tr>\n",
       "      <th>...</th>\n",
       "      <td>...</td>\n",
       "      <td>...</td>\n",
       "      <td>...</td>\n",
       "      <td>...</td>\n",
       "    </tr>\n",
       "    <tr>\n",
       "      <th>309127</th>\n",
       "      <td>2020-10-25 02:45:00</td>\n",
       "      <td>CEST</td>\n",
       "      <td>219.09</td>\n",
       "      <td>238.68</td>\n",
       "    </tr>\n",
       "    <tr>\n",
       "      <th>309128</th>\n",
       "      <td>2020-10-25 02:00:00</td>\n",
       "      <td>CET</td>\n",
       "      <td>220.56</td>\n",
       "      <td>242.86</td>\n",
       "    </tr>\n",
       "    <tr>\n",
       "      <th>309129</th>\n",
       "      <td>2020-10-25 02:15:00</td>\n",
       "      <td>CET</td>\n",
       "      <td>222.21</td>\n",
       "      <td>242.04</td>\n",
       "    </tr>\n",
       "    <tr>\n",
       "      <th>309130</th>\n",
       "      <td>2020-10-25 02:30:00</td>\n",
       "      <td>CET</td>\n",
       "      <td>223.94</td>\n",
       "      <td>240.07</td>\n",
       "    </tr>\n",
       "    <tr>\n",
       "      <th>309131</th>\n",
       "      <td>2020-10-25 02:45:00</td>\n",
       "      <td>CET</td>\n",
       "      <td>225.84</td>\n",
       "      <td>238.07</td>\n",
       "    </tr>\n",
       "  </tbody>\n",
       "</table>\n",
       "<p>72 rows × 4 columns</p>\n",
       "</div>"
      ],
      "text/plain": [
       "                 date_time timezone    pred     act\n",
       "28900  2012-10-28 02:00:00     CEST  457.11  345.00\n",
       "28901  2012-10-28 02:15:00     CEST  437.22  347.50\n",
       "28902  2012-10-28 02:30:00     CEST  427.33  350.00\n",
       "28903  2012-10-28 02:45:00     CEST  417.44  352.50\n",
       "28904  2012-10-28 02:00:00      CET  407.56  355.00\n",
       "...                    ...      ...     ...     ...\n",
       "309127 2020-10-25 02:45:00     CEST  219.09  238.68\n",
       "309128 2020-10-25 02:00:00      CET  220.56  242.86\n",
       "309129 2020-10-25 02:15:00      CET  222.21  242.04\n",
       "309130 2020-10-25 02:30:00      CET  223.94  240.07\n",
       "309131 2020-10-25 02:45:00      CET  225.84  238.07\n",
       "\n",
       "[72 rows x 4 columns]"
      ]
     },
     "metadata": {},
     "execution_count": 296
    }
   ],
   "metadata": {}
  },
  {
   "cell_type": "code",
   "execution_count": 297,
   "source": [
    "wind_50Hertz.drop_duplicates(['date_time'], keep = False, inplace = True)"
   ],
   "outputs": [],
   "metadata": {}
  },
  {
   "cell_type": "markdown",
   "source": [
    "## 2.4 Checking and handling missing values"
   ],
   "metadata": {}
  },
  {
   "cell_type": "code",
   "execution_count": 298,
   "source": [
    "print(wind_50Hertz[wind_50Hertz.isnull().any(axis=1)])"
   ],
   "outputs": [
    {
     "output_type": "stream",
     "name": "stdout",
     "text": [
      "                 date_time timezone    pred    act\n",
      "172032 2016-11-27 00:00:00      CET     NaN  289.0\n",
      "172033 2016-11-27 00:15:00      CET     NaN  295.0\n",
      "172034 2016-11-27 00:30:00      CET     NaN  300.0\n",
      "172035 2016-11-27 00:45:00      CET     NaN  315.0\n",
      "172036 2016-11-27 01:00:00      CET     NaN  318.0\n",
      "...                    ...      ...     ...    ...\n",
      "311991 2020-11-23 21:45:00      CET  130.69    NaN\n",
      "311993 2020-11-23 22:15:00      CET  124.16    NaN\n",
      "311995 2020-11-23 22:45:00      CET  118.85    NaN\n",
      "311997 2020-11-23 23:15:00      CET  114.05    NaN\n",
      "311999 2020-11-23 23:45:00      CET  109.61    NaN\n",
      "\n",
      "[647 rows x 4 columns]\n"
     ]
    }
   ],
   "metadata": {}
  },
  {
   "cell_type": "code",
   "execution_count": 299,
   "source": [
    "#Print the number of missing values per columns\n",
    "print(wind_50Hertz.isnull().sum(),\"\\n\")"
   ],
   "outputs": [
    {
     "output_type": "stream",
     "name": "stdout",
     "text": [
      "date_time      0\n",
      "timezone       0\n",
      "pred         584\n",
      "act           63\n",
      "dtype: int64 \n",
      "\n"
     ]
    }
   ],
   "metadata": {}
  },
  {
   "cell_type": "code",
   "execution_count": 300,
   "source": [
    "wind_50Hertz['pred'].replace(to_replace = np.nan, method = 'ffill', inplace = True)\n",
    "wind_50Hertz['act'].replace(to_replace = np.nan, method = 'ffill', inplace = True)"
   ],
   "outputs": [],
   "metadata": {}
  },
  {
   "cell_type": "markdown",
   "source": [
    "## 2.5 Transforming the data set in hourly"
   ],
   "metadata": {}
  },
  {
   "cell_type": "code",
   "execution_count": 301,
   "source": [
    "wind_50Hertz = wind_50Hertz.set_index('date_time')\n",
    "wind_50Hertz = wind_50Hertz.resample('H').sum()"
   ],
   "outputs": [],
   "metadata": {}
  },
  {
   "cell_type": "code",
   "execution_count": 302,
   "source": [
    "wind_50Hertz.info()"
   ],
   "outputs": [
    {
     "output_type": "stream",
     "name": "stdout",
     "text": [
      "<class 'pandas.core.frame.DataFrame'>\n",
      "DatetimeIndex: 78912 entries, 2012-01-01 00:00:00 to 2020-12-31 23:00:00\n",
      "Freq: H\n",
      "Data columns (total 2 columns):\n",
      " #   Column  Non-Null Count  Dtype  \n",
      "---  ------  --------------  -----  \n",
      " 0   pred    78912 non-null  float64\n",
      " 1   act     78912 non-null  float64\n",
      "dtypes: float64(2)\n",
      "memory usage: 1.8 MB\n"
     ]
    }
   ],
   "metadata": {}
  },
  {
   "cell_type": "markdown",
   "source": [
    "## 2.6 Adding the controlzone"
   ],
   "metadata": {}
  },
  {
   "cell_type": "code",
   "execution_count": 303,
   "source": [
    "wind_50Hertz['control_zone'] = '50Hertz'\n",
    "wind_amprion.info()"
   ],
   "outputs": [
    {
     "output_type": "stream",
     "name": "stdout",
     "text": [
      "<class 'pandas.core.frame.DataFrame'>\n",
      "DatetimeIndex: 78912 entries, 2012-01-01 00:00:00 to 2020-12-31 23:00:00\n",
      "Freq: H\n",
      "Data columns (total 3 columns):\n",
      " #   Column        Non-Null Count  Dtype  \n",
      "---  ------        --------------  -----  \n",
      " 0   pred          78912 non-null  float64\n",
      " 1   act           78912 non-null  float64\n",
      " 2   control_zone  78912 non-null  object \n",
      "dtypes: float64(2), object(1)\n",
      "memory usage: 2.4+ MB\n"
     ]
    }
   ],
   "metadata": {}
  },
  {
   "cell_type": "markdown",
   "source": [
    "# 3. Control area: Amprion"
   ],
   "metadata": {}
  },
  {
   "cell_type": "markdown",
   "source": [
    "## 3.1 Loading the data into a data frame"
   ],
   "metadata": {}
  },
  {
   "cell_type": "code",
   "execution_count": 304,
   "source": [
    "wind_amprion= pd.read_excel(\"Data/wind_raw_data.xlsx\", sheet_name = '50Hertz', header = 0, parse_dates= [['date', 'time']])"
   ],
   "outputs": [],
   "metadata": {}
  },
  {
   "cell_type": "markdown",
   "source": [
    "## 3.2 Checking the types of the data and count of observations"
   ],
   "metadata": {}
  },
  {
   "cell_type": "code",
   "execution_count": 305,
   "source": [
    "wind_amprion.info()"
   ],
   "outputs": [
    {
     "output_type": "stream",
     "name": "stdout",
     "text": [
      "<class 'pandas.core.frame.DataFrame'>\n",
      "RangeIndex: 315648 entries, 0 to 315647\n",
      "Data columns (total 4 columns):\n",
      " #   Column     Non-Null Count   Dtype         \n",
      "---  ------     --------------   -----         \n",
      " 0   date_time  315648 non-null  datetime64[ns]\n",
      " 1   timezone   315648 non-null  object        \n",
      " 2   pred       315064 non-null  float64       \n",
      " 3   act        315585 non-null  float64       \n",
      "dtypes: datetime64[ns](1), float64(2), object(1)\n",
      "memory usage: 9.6+ MB\n"
     ]
    }
   ],
   "metadata": {}
  },
  {
   "cell_type": "markdown",
   "source": [
    "## 3.3 Checking and removing duplicated rows regarding the time change"
   ],
   "metadata": {}
  },
  {
   "cell_type": "code",
   "execution_count": 306,
   "source": [
    "print(wind_amprion[wind_amprion.duplicated(['date_time'], keep = False)])"
   ],
   "outputs": [
    {
     "output_type": "stream",
     "name": "stdout",
     "text": [
      "                 date_time timezone    pred     act\n",
      "28900  2012-10-28 02:00:00     CEST  457.11  345.00\n",
      "28901  2012-10-28 02:15:00     CEST  437.22  347.50\n",
      "28902  2012-10-28 02:30:00     CEST  427.33  350.00\n",
      "28903  2012-10-28 02:45:00     CEST  417.44  352.50\n",
      "28904  2012-10-28 02:00:00      CET  407.56  355.00\n",
      "...                    ...      ...     ...     ...\n",
      "309127 2020-10-25 02:45:00     CEST  219.09  238.68\n",
      "309128 2020-10-25 02:00:00      CET  220.56  242.86\n",
      "309129 2020-10-25 02:15:00      CET  222.21  242.04\n",
      "309130 2020-10-25 02:30:00      CET  223.94  240.07\n",
      "309131 2020-10-25 02:45:00      CET  225.84  238.07\n",
      "\n",
      "[72 rows x 4 columns]\n"
     ]
    }
   ],
   "metadata": {}
  },
  {
   "cell_type": "code",
   "execution_count": 307,
   "source": [
    "wind_amprion.drop_duplicates(['date_time'], keep = False, inplace = True)"
   ],
   "outputs": [],
   "metadata": {}
  },
  {
   "cell_type": "markdown",
   "source": [
    "## 3.4 Checking and handling missing values"
   ],
   "metadata": {}
  },
  {
   "cell_type": "code",
   "execution_count": 308,
   "source": [
    "#Print the number of missing values per columns\n",
    "print(wind_amprion.isnull().sum(),\"\\n\")"
   ],
   "outputs": [
    {
     "output_type": "stream",
     "name": "stdout",
     "text": [
      "date_time      0\n",
      "timezone       0\n",
      "pred         584\n",
      "act           63\n",
      "dtype: int64 \n",
      "\n"
     ]
    }
   ],
   "metadata": {}
  },
  {
   "cell_type": "code",
   "execution_count": 309,
   "source": [
    "wind_amprion['pred'].replace(to_replace = np.nan, method = 'ffill', inplace = True)\n",
    "wind_amprion['act'].replace(to_replace = np.nan, method = 'ffill', inplace = True)"
   ],
   "outputs": [],
   "metadata": {}
  },
  {
   "cell_type": "code",
   "execution_count": 310,
   "source": [
    "wind_amprion.info()"
   ],
   "outputs": [
    {
     "output_type": "stream",
     "name": "stdout",
     "text": [
      "<class 'pandas.core.frame.DataFrame'>\n",
      "Int64Index: 315576 entries, 0 to 315647\n",
      "Data columns (total 4 columns):\n",
      " #   Column     Non-Null Count   Dtype         \n",
      "---  ------     --------------   -----         \n",
      " 0   date_time  315576 non-null  datetime64[ns]\n",
      " 1   timezone   315576 non-null  object        \n",
      " 2   pred       315576 non-null  float64       \n",
      " 3   act        315576 non-null  float64       \n",
      "dtypes: datetime64[ns](1), float64(2), object(1)\n",
      "memory usage: 12.0+ MB\n"
     ]
    }
   ],
   "metadata": {}
  },
  {
   "cell_type": "markdown",
   "source": [
    "## 3.5 Transforming the data set in hourly"
   ],
   "metadata": {}
  },
  {
   "cell_type": "code",
   "execution_count": 311,
   "source": [
    "wind_amprion = wind_amprion.set_index('date_time')\n",
    "wind_amprion = wind_amprion.resample('H').sum()"
   ],
   "outputs": [],
   "metadata": {}
  },
  {
   "cell_type": "code",
   "execution_count": 312,
   "source": [
    "wind_amprion.head()"
   ],
   "outputs": [
    {
     "output_type": "execute_result",
     "data": {
      "text/html": [
       "<div>\n",
       "<style scoped>\n",
       "    .dataframe tbody tr th:only-of-type {\n",
       "        vertical-align: middle;\n",
       "    }\n",
       "\n",
       "    .dataframe tbody tr th {\n",
       "        vertical-align: top;\n",
       "    }\n",
       "\n",
       "    .dataframe thead th {\n",
       "        text-align: right;\n",
       "    }\n",
       "</style>\n",
       "<table border=\"1\" class=\"dataframe\">\n",
       "  <thead>\n",
       "    <tr style=\"text-align: right;\">\n",
       "      <th></th>\n",
       "      <th>pred</th>\n",
       "      <th>act</th>\n",
       "    </tr>\n",
       "    <tr>\n",
       "      <th>date_time</th>\n",
       "      <th></th>\n",
       "      <th></th>\n",
       "    </tr>\n",
       "  </thead>\n",
       "  <tbody>\n",
       "    <tr>\n",
       "      <th>2012-01-01 00:00:00</th>\n",
       "      <td>4344.0</td>\n",
       "      <td>3483.0</td>\n",
       "    </tr>\n",
       "    <tr>\n",
       "      <th>2012-01-01 01:00:00</th>\n",
       "      <td>4496.0</td>\n",
       "      <td>3319.0</td>\n",
       "    </tr>\n",
       "    <tr>\n",
       "      <th>2012-01-01 02:00:00</th>\n",
       "      <td>4765.0</td>\n",
       "      <td>3319.0</td>\n",
       "    </tr>\n",
       "    <tr>\n",
       "      <th>2012-01-01 03:00:00</th>\n",
       "      <td>5004.0</td>\n",
       "      <td>3575.0</td>\n",
       "    </tr>\n",
       "    <tr>\n",
       "      <th>2012-01-01 04:00:00</th>\n",
       "      <td>5321.0</td>\n",
       "      <td>3820.0</td>\n",
       "    </tr>\n",
       "  </tbody>\n",
       "</table>\n",
       "</div>"
      ],
      "text/plain": [
       "                       pred     act\n",
       "date_time                          \n",
       "2012-01-01 00:00:00  4344.0  3483.0\n",
       "2012-01-01 01:00:00  4496.0  3319.0\n",
       "2012-01-01 02:00:00  4765.0  3319.0\n",
       "2012-01-01 03:00:00  5004.0  3575.0\n",
       "2012-01-01 04:00:00  5321.0  3820.0"
      ]
     },
     "metadata": {},
     "execution_count": 312
    }
   ],
   "metadata": {}
  },
  {
   "cell_type": "markdown",
   "source": [
    "## 3.6 Adding the control zone"
   ],
   "metadata": {}
  },
  {
   "cell_type": "code",
   "execution_count": 313,
   "source": [
    "wind_amprion['control_zone'] = 'Amprion'\n",
    "wind_amprion.head()"
   ],
   "outputs": [
    {
     "output_type": "execute_result",
     "data": {
      "text/html": [
       "<div>\n",
       "<style scoped>\n",
       "    .dataframe tbody tr th:only-of-type {\n",
       "        vertical-align: middle;\n",
       "    }\n",
       "\n",
       "    .dataframe tbody tr th {\n",
       "        vertical-align: top;\n",
       "    }\n",
       "\n",
       "    .dataframe thead th {\n",
       "        text-align: right;\n",
       "    }\n",
       "</style>\n",
       "<table border=\"1\" class=\"dataframe\">\n",
       "  <thead>\n",
       "    <tr style=\"text-align: right;\">\n",
       "      <th></th>\n",
       "      <th>pred</th>\n",
       "      <th>act</th>\n",
       "      <th>control_zone</th>\n",
       "    </tr>\n",
       "    <tr>\n",
       "      <th>date_time</th>\n",
       "      <th></th>\n",
       "      <th></th>\n",
       "      <th></th>\n",
       "    </tr>\n",
       "  </thead>\n",
       "  <tbody>\n",
       "    <tr>\n",
       "      <th>2012-01-01 00:00:00</th>\n",
       "      <td>4344.0</td>\n",
       "      <td>3483.0</td>\n",
       "      <td>Amprion</td>\n",
       "    </tr>\n",
       "    <tr>\n",
       "      <th>2012-01-01 01:00:00</th>\n",
       "      <td>4496.0</td>\n",
       "      <td>3319.0</td>\n",
       "      <td>Amprion</td>\n",
       "    </tr>\n",
       "    <tr>\n",
       "      <th>2012-01-01 02:00:00</th>\n",
       "      <td>4765.0</td>\n",
       "      <td>3319.0</td>\n",
       "      <td>Amprion</td>\n",
       "    </tr>\n",
       "    <tr>\n",
       "      <th>2012-01-01 03:00:00</th>\n",
       "      <td>5004.0</td>\n",
       "      <td>3575.0</td>\n",
       "      <td>Amprion</td>\n",
       "    </tr>\n",
       "    <tr>\n",
       "      <th>2012-01-01 04:00:00</th>\n",
       "      <td>5321.0</td>\n",
       "      <td>3820.0</td>\n",
       "      <td>Amprion</td>\n",
       "    </tr>\n",
       "  </tbody>\n",
       "</table>\n",
       "</div>"
      ],
      "text/plain": [
       "                       pred     act control_zone\n",
       "date_time                                       \n",
       "2012-01-01 00:00:00  4344.0  3483.0      Amprion\n",
       "2012-01-01 01:00:00  4496.0  3319.0      Amprion\n",
       "2012-01-01 02:00:00  4765.0  3319.0      Amprion\n",
       "2012-01-01 03:00:00  5004.0  3575.0      Amprion\n",
       "2012-01-01 04:00:00  5321.0  3820.0      Amprion"
      ]
     },
     "metadata": {},
     "execution_count": 313
    }
   ],
   "metadata": {}
  },
  {
   "cell_type": "markdown",
   "source": [
    "# 4. Control zone: Tennet"
   ],
   "metadata": {}
  },
  {
   "cell_type": "markdown",
   "source": [
    "## 4.1 Loading the data into a data frame"
   ],
   "metadata": {}
  },
  {
   "cell_type": "code",
   "execution_count": 314,
   "source": [
    "wind_tennet= pd.read_excel(\"Data/wind_raw_data.xlsx\", sheet_name = 'Tennet', header = 0, parse_dates= [['date', 'time']])"
   ],
   "outputs": [],
   "metadata": {}
  },
  {
   "cell_type": "markdown",
   "source": [
    "## 4.2 Checking the types of the data and count of observations"
   ],
   "metadata": {}
  },
  {
   "cell_type": "code",
   "execution_count": 315,
   "source": [
    "wind_tennet.info()"
   ],
   "outputs": [
    {
     "output_type": "stream",
     "name": "stdout",
     "text": [
      "<class 'pandas.core.frame.DataFrame'>\n",
      "RangeIndex: 315648 entries, 0 to 315647\n",
      "Data columns (total 4 columns):\n",
      " #   Column     Non-Null Count   Dtype         \n",
      "---  ------     --------------   -----         \n",
      " 0   date_time  315648 non-null  datetime64[ns]\n",
      " 1   timezone   315648 non-null  object        \n",
      " 2   pred       315648 non-null  float64       \n",
      " 3   act        315648 non-null  float64       \n",
      "dtypes: datetime64[ns](1), float64(2), object(1)\n",
      "memory usage: 9.6+ MB\n"
     ]
    }
   ],
   "metadata": {}
  },
  {
   "cell_type": "markdown",
   "source": [
    "## 4.3 Checking and removing duplicated rows regarding the time change"
   ],
   "metadata": {}
  },
  {
   "cell_type": "code",
   "execution_count": 316,
   "source": [
    "print(wind_tennet[wind_tennet.duplicated(['date_time'], keep = False)])"
   ],
   "outputs": [
    {
     "output_type": "stream",
     "name": "stdout",
     "text": [
      "                 date_time timezone    pred     act\n",
      "28900  2012-10-28 02:00:00      CEST  184.8  227.23\n",
      "28901  2012-10-28 02:15:00      CEST  176.0  221.72\n",
      "28902  2012-10-28 02:30:00      CEST  167.2  217.19\n",
      "28903  2012-10-28 02:45:00      CEST  157.6  205.00\n",
      "28904  2012-10-28 02:00:00       CET  130.4  205.00\n",
      "...                    ...       ...    ...     ...\n",
      "309127 2020-10-25 02:45:00      CEST  299.0  266.67\n",
      "309128 2020-10-25 02:00:00       CET  301.0  273.23\n",
      "309129 2020-10-25 02:15:00       CET  303.0  276.34\n",
      "309130 2020-10-25 02:30:00       CET  304.0  276.70\n",
      "309131 2020-10-25 02:45:00       CET  307.0  272.59\n",
      "\n",
      "[72 rows x 4 columns]\n"
     ]
    }
   ],
   "metadata": {}
  },
  {
   "cell_type": "code",
   "execution_count": 317,
   "source": [
    "wind_tennet.drop_duplicates(['date_time'], keep = False, inplace = True)"
   ],
   "outputs": [],
   "metadata": {}
  },
  {
   "cell_type": "markdown",
   "source": [
    "## 4.4 Checking and handling missing values"
   ],
   "metadata": {}
  },
  {
   "cell_type": "code",
   "execution_count": 318,
   "source": [
    "#Print the number of missing values per columns\n",
    "print(wind_tennet.isnull().sum(),\"\\n\")"
   ],
   "outputs": [
    {
     "output_type": "stream",
     "name": "stdout",
     "text": [
      "date_time    0\n",
      "timezone     0\n",
      "pred         0\n",
      "act          0\n",
      "dtype: int64 \n",
      "\n"
     ]
    }
   ],
   "metadata": {}
  },
  {
   "cell_type": "code",
   "execution_count": 319,
   "source": [
    "wind_tennet['pred'].replace(to_replace = np.nan, method = 'ffill', inplace = True)\n",
    "wind_tennet['act'].replace(to_replace = np.nan, method = 'ffill', inplace = True)"
   ],
   "outputs": [],
   "metadata": {}
  },
  {
   "cell_type": "code",
   "execution_count": 320,
   "source": [
    "wind_tennet.info()"
   ],
   "outputs": [
    {
     "output_type": "stream",
     "name": "stdout",
     "text": [
      "<class 'pandas.core.frame.DataFrame'>\n",
      "Int64Index: 315576 entries, 0 to 315647\n",
      "Data columns (total 4 columns):\n",
      " #   Column     Non-Null Count   Dtype         \n",
      "---  ------     --------------   -----         \n",
      " 0   date_time  315576 non-null  datetime64[ns]\n",
      " 1   timezone   315576 non-null  object        \n",
      " 2   pred       315576 non-null  float64       \n",
      " 3   act        315576 non-null  float64       \n",
      "dtypes: datetime64[ns](1), float64(2), object(1)\n",
      "memory usage: 12.0+ MB\n"
     ]
    }
   ],
   "metadata": {}
  },
  {
   "cell_type": "markdown",
   "source": [
    "## 4.5 Transforming the data set in hourly"
   ],
   "metadata": {}
  },
  {
   "cell_type": "code",
   "execution_count": 321,
   "source": [
    "wind_tennet = wind_tennet.set_index('date_time')\n",
    "wind_tennet = wind_tennet.resample('H').sum()"
   ],
   "outputs": [],
   "metadata": {}
  },
  {
   "cell_type": "code",
   "execution_count": 322,
   "source": [
    "wind_tennet.head()"
   ],
   "outputs": [
    {
     "output_type": "execute_result",
     "data": {
      "text/html": [
       "<div>\n",
       "<style scoped>\n",
       "    .dataframe tbody tr th:only-of-type {\n",
       "        vertical-align: middle;\n",
       "    }\n",
       "\n",
       "    .dataframe tbody tr th {\n",
       "        vertical-align: top;\n",
       "    }\n",
       "\n",
       "    .dataframe thead th {\n",
       "        text-align: right;\n",
       "    }\n",
       "</style>\n",
       "<table border=\"1\" class=\"dataframe\">\n",
       "  <thead>\n",
       "    <tr style=\"text-align: right;\">\n",
       "      <th></th>\n",
       "      <th>pred</th>\n",
       "      <th>act</th>\n",
       "    </tr>\n",
       "    <tr>\n",
       "      <th>date_time</th>\n",
       "      <th></th>\n",
       "      <th></th>\n",
       "    </tr>\n",
       "  </thead>\n",
       "  <tbody>\n",
       "    <tr>\n",
       "      <th>2012-01-01 00:00:00</th>\n",
       "      <td>2943.08</td>\n",
       "      <td>3101.94</td>\n",
       "    </tr>\n",
       "    <tr>\n",
       "      <th>2012-01-01 01:00:00</th>\n",
       "      <td>3310.20</td>\n",
       "      <td>3499.41</td>\n",
       "    </tr>\n",
       "    <tr>\n",
       "      <th>2012-01-01 02:00:00</th>\n",
       "      <td>3714.40</td>\n",
       "      <td>4342.17</td>\n",
       "    </tr>\n",
       "    <tr>\n",
       "      <th>2012-01-01 03:00:00</th>\n",
       "      <td>4132.28</td>\n",
       "      <td>5288.10</td>\n",
       "    </tr>\n",
       "    <tr>\n",
       "      <th>2012-01-01 04:00:00</th>\n",
       "      <td>4566.36</td>\n",
       "      <td>5774.19</td>\n",
       "    </tr>\n",
       "  </tbody>\n",
       "</table>\n",
       "</div>"
      ],
      "text/plain": [
       "                        pred      act\n",
       "date_time                            \n",
       "2012-01-01 00:00:00  2943.08  3101.94\n",
       "2012-01-01 01:00:00  3310.20  3499.41\n",
       "2012-01-01 02:00:00  3714.40  4342.17\n",
       "2012-01-01 03:00:00  4132.28  5288.10\n",
       "2012-01-01 04:00:00  4566.36  5774.19"
      ]
     },
     "metadata": {},
     "execution_count": 322
    }
   ],
   "metadata": {}
  },
  {
   "cell_type": "markdown",
   "source": [
    "## 4.6 Adding the control zone"
   ],
   "metadata": {}
  },
  {
   "cell_type": "code",
   "execution_count": 323,
   "source": [
    "wind_tennet['control_zone'] = 'Tennet'\n",
    "wind_tennet.head()"
   ],
   "outputs": [
    {
     "output_type": "execute_result",
     "data": {
      "text/html": [
       "<div>\n",
       "<style scoped>\n",
       "    .dataframe tbody tr th:only-of-type {\n",
       "        vertical-align: middle;\n",
       "    }\n",
       "\n",
       "    .dataframe tbody tr th {\n",
       "        vertical-align: top;\n",
       "    }\n",
       "\n",
       "    .dataframe thead th {\n",
       "        text-align: right;\n",
       "    }\n",
       "</style>\n",
       "<table border=\"1\" class=\"dataframe\">\n",
       "  <thead>\n",
       "    <tr style=\"text-align: right;\">\n",
       "      <th></th>\n",
       "      <th>pred</th>\n",
       "      <th>act</th>\n",
       "      <th>control_zone</th>\n",
       "    </tr>\n",
       "    <tr>\n",
       "      <th>date_time</th>\n",
       "      <th></th>\n",
       "      <th></th>\n",
       "      <th></th>\n",
       "    </tr>\n",
       "  </thead>\n",
       "  <tbody>\n",
       "    <tr>\n",
       "      <th>2012-01-01 00:00:00</th>\n",
       "      <td>2943.08</td>\n",
       "      <td>3101.94</td>\n",
       "      <td>Tennet</td>\n",
       "    </tr>\n",
       "    <tr>\n",
       "      <th>2012-01-01 01:00:00</th>\n",
       "      <td>3310.20</td>\n",
       "      <td>3499.41</td>\n",
       "      <td>Tennet</td>\n",
       "    </tr>\n",
       "    <tr>\n",
       "      <th>2012-01-01 02:00:00</th>\n",
       "      <td>3714.40</td>\n",
       "      <td>4342.17</td>\n",
       "      <td>Tennet</td>\n",
       "    </tr>\n",
       "    <tr>\n",
       "      <th>2012-01-01 03:00:00</th>\n",
       "      <td>4132.28</td>\n",
       "      <td>5288.10</td>\n",
       "      <td>Tennet</td>\n",
       "    </tr>\n",
       "    <tr>\n",
       "      <th>2012-01-01 04:00:00</th>\n",
       "      <td>4566.36</td>\n",
       "      <td>5774.19</td>\n",
       "      <td>Tennet</td>\n",
       "    </tr>\n",
       "  </tbody>\n",
       "</table>\n",
       "</div>"
      ],
      "text/plain": [
       "                        pred      act control_zone\n",
       "date_time                                         \n",
       "2012-01-01 00:00:00  2943.08  3101.94       Tennet\n",
       "2012-01-01 01:00:00  3310.20  3499.41       Tennet\n",
       "2012-01-01 02:00:00  3714.40  4342.17       Tennet\n",
       "2012-01-01 03:00:00  4132.28  5288.10       Tennet\n",
       "2012-01-01 04:00:00  4566.36  5774.19       Tennet"
      ]
     },
     "metadata": {},
     "execution_count": 323
    }
   ],
   "metadata": {}
  },
  {
   "cell_type": "markdown",
   "source": [
    "# 5. Control area: TransnetBW"
   ],
   "metadata": {}
  },
  {
   "cell_type": "markdown",
   "source": [
    "## 5.1 Loading the data into a data frame"
   ],
   "metadata": {}
  },
  {
   "cell_type": "code",
   "execution_count": 324,
   "source": [
    "wind_transnetbw= pd.read_excel(\"Data/wind_raw_data.xlsx\", sheet_name = 'TransnetBW', header = 0, parse_dates= [['date', 'time']])"
   ],
   "outputs": [],
   "metadata": {}
  },
  {
   "cell_type": "markdown",
   "source": [
    "## 3.2 Checking the types of the data and count of observations"
   ],
   "metadata": {}
  },
  {
   "cell_type": "code",
   "execution_count": 325,
   "source": [
    "wind_transnetbw.info()"
   ],
   "outputs": [
    {
     "output_type": "stream",
     "name": "stdout",
     "text": [
      "<class 'pandas.core.frame.DataFrame'>\n",
      "RangeIndex: 315648 entries, 0 to 315647\n",
      "Data columns (total 4 columns):\n",
      " #   Column     Non-Null Count   Dtype         \n",
      "---  ------     --------------   -----         \n",
      " 0   date_time  315648 non-null  datetime64[ns]\n",
      " 1   timezone   315648 non-null  object        \n",
      " 2   pred       315246 non-null  float64       \n",
      " 3   act        315328 non-null  float64       \n",
      "dtypes: datetime64[ns](1), float64(2), object(1)\n",
      "memory usage: 9.6+ MB\n"
     ]
    }
   ],
   "metadata": {}
  },
  {
   "cell_type": "markdown",
   "source": [
    "## 3.3 Checking and removing duplicated rows regarding the time change"
   ],
   "metadata": {}
  },
  {
   "cell_type": "code",
   "execution_count": 326,
   "source": [
    "print(wind_transnetbw[wind_transnetbw.duplicated(['date_time'], keep = False)])"
   ],
   "outputs": [
    {
     "output_type": "stream",
     "name": "stdout",
     "text": [
      "                 date_time timezone   pred    act\n",
      "28900  2012-10-28 02:00:00      CEST   NaN    NaN\n",
      "28901  2012-10-28 02:15:00      CEST   NaN    NaN\n",
      "28902  2012-10-28 02:30:00      CEST   NaN    NaN\n",
      "28903  2012-10-28 02:45:00      CEST   NaN    NaN\n",
      "28904  2012-10-28 02:00:00       CET   NaN    NaN\n",
      "...                    ...       ...   ...    ...\n",
      "309127 2020-10-25 02:45:00      CEST  26.0  24.86\n",
      "309128 2020-10-25 02:00:00       CET  26.0  24.33\n",
      "309129 2020-10-25 02:15:00       CET  27.0  24.14\n",
      "309130 2020-10-25 02:30:00       CET  27.0  26.44\n",
      "309131 2020-10-25 02:45:00       CET  28.0  27.25\n",
      "\n",
      "[72 rows x 4 columns]\n"
     ]
    }
   ],
   "metadata": {}
  },
  {
   "cell_type": "code",
   "execution_count": 327,
   "source": [
    "wind_transnetbw.drop_duplicates(['date_time'], keep = False, inplace = True)"
   ],
   "outputs": [],
   "metadata": {}
  },
  {
   "cell_type": "markdown",
   "source": [
    "## 3.4 Checking and handling missing values"
   ],
   "metadata": {}
  },
  {
   "cell_type": "code",
   "execution_count": 328,
   "source": [
    "#Print the number of missing values per columns\n",
    "print(wind_transnetbw.isnull().sum(),\"\\n\")"
   ],
   "outputs": [
    {
     "output_type": "stream",
     "name": "stdout",
     "text": [
      "date_time      0\n",
      "timezone       0\n",
      "pred         386\n",
      "act          312\n",
      "dtype: int64 \n",
      "\n"
     ]
    }
   ],
   "metadata": {}
  },
  {
   "cell_type": "code",
   "execution_count": 329,
   "source": [
    "wind_transnetbw['pred'].replace(to_replace = np.nan, method = 'ffill', inplace = True)\n",
    "wind_transnetbw['act'].replace(to_replace = np.nan, method = 'ffill', inplace = True)"
   ],
   "outputs": [],
   "metadata": {}
  },
  {
   "cell_type": "code",
   "execution_count": 330,
   "source": [
    "wind_transnetbw.info()"
   ],
   "outputs": [
    {
     "output_type": "stream",
     "name": "stdout",
     "text": [
      "<class 'pandas.core.frame.DataFrame'>\n",
      "Int64Index: 315576 entries, 0 to 315647\n",
      "Data columns (total 4 columns):\n",
      " #   Column     Non-Null Count   Dtype         \n",
      "---  ------     --------------   -----         \n",
      " 0   date_time  315576 non-null  datetime64[ns]\n",
      " 1   timezone   315576 non-null  object        \n",
      " 2   pred       315576 non-null  float64       \n",
      " 3   act        315576 non-null  float64       \n",
      "dtypes: datetime64[ns](1), float64(2), object(1)\n",
      "memory usage: 12.0+ MB\n"
     ]
    }
   ],
   "metadata": {}
  },
  {
   "cell_type": "markdown",
   "source": [
    "## 3.5 Transforming the data set in hourly"
   ],
   "metadata": {}
  },
  {
   "cell_type": "code",
   "execution_count": 331,
   "source": [
    "wind_transnetbw = wind_transnetbw.set_index('date_time')\n",
    "wind_transnetbw = wind_transnetbw.resample('H').sum()"
   ],
   "outputs": [],
   "metadata": {}
  },
  {
   "cell_type": "code",
   "execution_count": 332,
   "source": [
    "wind_transnetbw.head()"
   ],
   "outputs": [
    {
     "output_type": "execute_result",
     "data": {
      "text/html": [
       "<div>\n",
       "<style scoped>\n",
       "    .dataframe tbody tr th:only-of-type {\n",
       "        vertical-align: middle;\n",
       "    }\n",
       "\n",
       "    .dataframe tbody tr th {\n",
       "        vertical-align: top;\n",
       "    }\n",
       "\n",
       "    .dataframe thead th {\n",
       "        text-align: right;\n",
       "    }\n",
       "</style>\n",
       "<table border=\"1\" class=\"dataframe\">\n",
       "  <thead>\n",
       "    <tr style=\"text-align: right;\">\n",
       "      <th></th>\n",
       "      <th>pred</th>\n",
       "      <th>act</th>\n",
       "    </tr>\n",
       "    <tr>\n",
       "      <th>date_time</th>\n",
       "      <th></th>\n",
       "      <th></th>\n",
       "    </tr>\n",
       "  </thead>\n",
       "  <tbody>\n",
       "    <tr>\n",
       "      <th>2012-01-01 00:00:00</th>\n",
       "      <td>348.0</td>\n",
       "      <td>716.2</td>\n",
       "    </tr>\n",
       "    <tr>\n",
       "      <th>2012-01-01 01:00:00</th>\n",
       "      <td>274.0</td>\n",
       "      <td>590.7</td>\n",
       "    </tr>\n",
       "    <tr>\n",
       "      <th>2012-01-01 02:00:00</th>\n",
       "      <td>293.0</td>\n",
       "      <td>431.3</td>\n",
       "    </tr>\n",
       "    <tr>\n",
       "      <th>2012-01-01 03:00:00</th>\n",
       "      <td>326.0</td>\n",
       "      <td>533.7</td>\n",
       "    </tr>\n",
       "    <tr>\n",
       "      <th>2012-01-01 04:00:00</th>\n",
       "      <td>338.0</td>\n",
       "      <td>615.3</td>\n",
       "    </tr>\n",
       "  </tbody>\n",
       "</table>\n",
       "</div>"
      ],
      "text/plain": [
       "                      pred    act\n",
       "date_time                        \n",
       "2012-01-01 00:00:00  348.0  716.2\n",
       "2012-01-01 01:00:00  274.0  590.7\n",
       "2012-01-01 02:00:00  293.0  431.3\n",
       "2012-01-01 03:00:00  326.0  533.7\n",
       "2012-01-01 04:00:00  338.0  615.3"
      ]
     },
     "metadata": {},
     "execution_count": 332
    }
   ],
   "metadata": {}
  },
  {
   "cell_type": "markdown",
   "source": [
    "## 3.6 Adding the control zone"
   ],
   "metadata": {}
  },
  {
   "cell_type": "code",
   "execution_count": 333,
   "source": [
    "wind_transnetbw['control_zone'] = 'TransnetBW'\n",
    "wind_transnetbw.head()"
   ],
   "outputs": [
    {
     "output_type": "execute_result",
     "data": {
      "text/html": [
       "<div>\n",
       "<style scoped>\n",
       "    .dataframe tbody tr th:only-of-type {\n",
       "        vertical-align: middle;\n",
       "    }\n",
       "\n",
       "    .dataframe tbody tr th {\n",
       "        vertical-align: top;\n",
       "    }\n",
       "\n",
       "    .dataframe thead th {\n",
       "        text-align: right;\n",
       "    }\n",
       "</style>\n",
       "<table border=\"1\" class=\"dataframe\">\n",
       "  <thead>\n",
       "    <tr style=\"text-align: right;\">\n",
       "      <th></th>\n",
       "      <th>pred</th>\n",
       "      <th>act</th>\n",
       "      <th>control_zone</th>\n",
       "    </tr>\n",
       "    <tr>\n",
       "      <th>date_time</th>\n",
       "      <th></th>\n",
       "      <th></th>\n",
       "      <th></th>\n",
       "    </tr>\n",
       "  </thead>\n",
       "  <tbody>\n",
       "    <tr>\n",
       "      <th>2012-01-01 00:00:00</th>\n",
       "      <td>348.0</td>\n",
       "      <td>716.2</td>\n",
       "      <td>TransnetBW</td>\n",
       "    </tr>\n",
       "    <tr>\n",
       "      <th>2012-01-01 01:00:00</th>\n",
       "      <td>274.0</td>\n",
       "      <td>590.7</td>\n",
       "      <td>TransnetBW</td>\n",
       "    </tr>\n",
       "    <tr>\n",
       "      <th>2012-01-01 02:00:00</th>\n",
       "      <td>293.0</td>\n",
       "      <td>431.3</td>\n",
       "      <td>TransnetBW</td>\n",
       "    </tr>\n",
       "    <tr>\n",
       "      <th>2012-01-01 03:00:00</th>\n",
       "      <td>326.0</td>\n",
       "      <td>533.7</td>\n",
       "      <td>TransnetBW</td>\n",
       "    </tr>\n",
       "    <tr>\n",
       "      <th>2012-01-01 04:00:00</th>\n",
       "      <td>338.0</td>\n",
       "      <td>615.3</td>\n",
       "      <td>TransnetBW</td>\n",
       "    </tr>\n",
       "  </tbody>\n",
       "</table>\n",
       "</div>"
      ],
      "text/plain": [
       "                      pred    act control_zone\n",
       "date_time                                     \n",
       "2012-01-01 00:00:00  348.0  716.2   TransnetBW\n",
       "2012-01-01 01:00:00  274.0  590.7   TransnetBW\n",
       "2012-01-01 02:00:00  293.0  431.3   TransnetBW\n",
       "2012-01-01 03:00:00  326.0  533.7   TransnetBW\n",
       "2012-01-01 04:00:00  338.0  615.3   TransnetBW"
      ]
     },
     "metadata": {},
     "execution_count": 333
    }
   ],
   "metadata": {}
  },
  {
   "cell_type": "markdown",
   "source": [
    "# 6. Final Data Set"
   ],
   "metadata": {}
  },
  {
   "cell_type": "markdown",
   "source": [
    "## 6.1 Combining the DataFrames"
   ],
   "metadata": {}
  },
  {
   "cell_type": "code",
   "execution_count": 334,
   "source": [
    "wind = pd.concat([wind_50Hertz, wind_amprion, wind_tennet, wind_transnetbw], axis = 0)"
   ],
   "outputs": [],
   "metadata": {}
  },
  {
   "cell_type": "markdown",
   "source": [
    "## 6.2 Adding more Features"
   ],
   "metadata": {}
  },
  {
   "cell_type": "markdown",
   "source": [
    "### 6.2.1 Forecast Error"
   ],
   "metadata": {}
  },
  {
   "cell_type": "code",
   "execution_count": 335,
   "source": [
    "wind['delta'] = wind['pred'] - wind['act']"
   ],
   "outputs": [],
   "metadata": {}
  },
  {
   "cell_type": "markdown",
   "source": [
    "### 6.2.1 Year"
   ],
   "metadata": {}
  },
  {
   "cell_type": "code",
   "execution_count": 336,
   "source": [
    "wind['year'] = wind.index.year\n",
    "wind.head()"
   ],
   "outputs": [
    {
     "output_type": "execute_result",
     "data": {
      "text/html": [
       "<div>\n",
       "<style scoped>\n",
       "    .dataframe tbody tr th:only-of-type {\n",
       "        vertical-align: middle;\n",
       "    }\n",
       "\n",
       "    .dataframe tbody tr th {\n",
       "        vertical-align: top;\n",
       "    }\n",
       "\n",
       "    .dataframe thead th {\n",
       "        text-align: right;\n",
       "    }\n",
       "</style>\n",
       "<table border=\"1\" class=\"dataframe\">\n",
       "  <thead>\n",
       "    <tr style=\"text-align: right;\">\n",
       "      <th></th>\n",
       "      <th>pred</th>\n",
       "      <th>act</th>\n",
       "      <th>control_zone</th>\n",
       "      <th>delta</th>\n",
       "      <th>year</th>\n",
       "    </tr>\n",
       "    <tr>\n",
       "      <th>date_time</th>\n",
       "      <th></th>\n",
       "      <th></th>\n",
       "      <th></th>\n",
       "      <th></th>\n",
       "      <th></th>\n",
       "    </tr>\n",
       "  </thead>\n",
       "  <tbody>\n",
       "    <tr>\n",
       "      <th>2012-01-01 00:00:00</th>\n",
       "      <td>4344.0</td>\n",
       "      <td>3483.0</td>\n",
       "      <td>50Hertz</td>\n",
       "      <td>861.0</td>\n",
       "      <td>2012</td>\n",
       "    </tr>\n",
       "    <tr>\n",
       "      <th>2012-01-01 01:00:00</th>\n",
       "      <td>4496.0</td>\n",
       "      <td>3319.0</td>\n",
       "      <td>50Hertz</td>\n",
       "      <td>1177.0</td>\n",
       "      <td>2012</td>\n",
       "    </tr>\n",
       "    <tr>\n",
       "      <th>2012-01-01 02:00:00</th>\n",
       "      <td>4765.0</td>\n",
       "      <td>3319.0</td>\n",
       "      <td>50Hertz</td>\n",
       "      <td>1446.0</td>\n",
       "      <td>2012</td>\n",
       "    </tr>\n",
       "    <tr>\n",
       "      <th>2012-01-01 03:00:00</th>\n",
       "      <td>5004.0</td>\n",
       "      <td>3575.0</td>\n",
       "      <td>50Hertz</td>\n",
       "      <td>1429.0</td>\n",
       "      <td>2012</td>\n",
       "    </tr>\n",
       "    <tr>\n",
       "      <th>2012-01-01 04:00:00</th>\n",
       "      <td>5321.0</td>\n",
       "      <td>3820.0</td>\n",
       "      <td>50Hertz</td>\n",
       "      <td>1501.0</td>\n",
       "      <td>2012</td>\n",
       "    </tr>\n",
       "  </tbody>\n",
       "</table>\n",
       "</div>"
      ],
      "text/plain": [
       "                       pred     act control_zone   delta  year\n",
       "date_time                                                     \n",
       "2012-01-01 00:00:00  4344.0  3483.0      50Hertz   861.0  2012\n",
       "2012-01-01 01:00:00  4496.0  3319.0      50Hertz  1177.0  2012\n",
       "2012-01-01 02:00:00  4765.0  3319.0      50Hertz  1446.0  2012\n",
       "2012-01-01 03:00:00  5004.0  3575.0      50Hertz  1429.0  2012\n",
       "2012-01-01 04:00:00  5321.0  3820.0      50Hertz  1501.0  2012"
      ]
     },
     "metadata": {},
     "execution_count": 336
    }
   ],
   "metadata": {}
  },
  {
   "cell_type": "markdown",
   "source": [
    "### 6.2.2 Month"
   ],
   "metadata": {}
  },
  {
   "cell_type": "code",
   "execution_count": 337,
   "source": [
    "wind['month'] = wind.index.month"
   ],
   "outputs": [],
   "metadata": {}
  },
  {
   "cell_type": "markdown",
   "source": [
    "### 6.2.3 Hour"
   ],
   "metadata": {}
  },
  {
   "cell_type": "code",
   "execution_count": 338,
   "source": [
    "wind['hour'] = wind.index.hour"
   ],
   "outputs": [],
   "metadata": {}
  },
  {
   "cell_type": "code",
   "execution_count": 339,
   "source": [
    "wind.head()"
   ],
   "outputs": [
    {
     "output_type": "execute_result",
     "data": {
      "text/html": [
       "<div>\n",
       "<style scoped>\n",
       "    .dataframe tbody tr th:only-of-type {\n",
       "        vertical-align: middle;\n",
       "    }\n",
       "\n",
       "    .dataframe tbody tr th {\n",
       "        vertical-align: top;\n",
       "    }\n",
       "\n",
       "    .dataframe thead th {\n",
       "        text-align: right;\n",
       "    }\n",
       "</style>\n",
       "<table border=\"1\" class=\"dataframe\">\n",
       "  <thead>\n",
       "    <tr style=\"text-align: right;\">\n",
       "      <th></th>\n",
       "      <th>pred</th>\n",
       "      <th>act</th>\n",
       "      <th>control_zone</th>\n",
       "      <th>delta</th>\n",
       "      <th>year</th>\n",
       "      <th>month</th>\n",
       "      <th>hour</th>\n",
       "    </tr>\n",
       "    <tr>\n",
       "      <th>date_time</th>\n",
       "      <th></th>\n",
       "      <th></th>\n",
       "      <th></th>\n",
       "      <th></th>\n",
       "      <th></th>\n",
       "      <th></th>\n",
       "      <th></th>\n",
       "    </tr>\n",
       "  </thead>\n",
       "  <tbody>\n",
       "    <tr>\n",
       "      <th>2012-01-01 00:00:00</th>\n",
       "      <td>4344.0</td>\n",
       "      <td>3483.0</td>\n",
       "      <td>50Hertz</td>\n",
       "      <td>861.0</td>\n",
       "      <td>2012</td>\n",
       "      <td>1</td>\n",
       "      <td>0</td>\n",
       "    </tr>\n",
       "    <tr>\n",
       "      <th>2012-01-01 01:00:00</th>\n",
       "      <td>4496.0</td>\n",
       "      <td>3319.0</td>\n",
       "      <td>50Hertz</td>\n",
       "      <td>1177.0</td>\n",
       "      <td>2012</td>\n",
       "      <td>1</td>\n",
       "      <td>1</td>\n",
       "    </tr>\n",
       "    <tr>\n",
       "      <th>2012-01-01 02:00:00</th>\n",
       "      <td>4765.0</td>\n",
       "      <td>3319.0</td>\n",
       "      <td>50Hertz</td>\n",
       "      <td>1446.0</td>\n",
       "      <td>2012</td>\n",
       "      <td>1</td>\n",
       "      <td>2</td>\n",
       "    </tr>\n",
       "    <tr>\n",
       "      <th>2012-01-01 03:00:00</th>\n",
       "      <td>5004.0</td>\n",
       "      <td>3575.0</td>\n",
       "      <td>50Hertz</td>\n",
       "      <td>1429.0</td>\n",
       "      <td>2012</td>\n",
       "      <td>1</td>\n",
       "      <td>3</td>\n",
       "    </tr>\n",
       "    <tr>\n",
       "      <th>2012-01-01 04:00:00</th>\n",
       "      <td>5321.0</td>\n",
       "      <td>3820.0</td>\n",
       "      <td>50Hertz</td>\n",
       "      <td>1501.0</td>\n",
       "      <td>2012</td>\n",
       "      <td>1</td>\n",
       "      <td>4</td>\n",
       "    </tr>\n",
       "  </tbody>\n",
       "</table>\n",
       "</div>"
      ],
      "text/plain": [
       "                       pred     act control_zone   delta  year  month  hour\n",
       "date_time                                                                  \n",
       "2012-01-01 00:00:00  4344.0  3483.0      50Hertz   861.0  2012      1     0\n",
       "2012-01-01 01:00:00  4496.0  3319.0      50Hertz  1177.0  2012      1     1\n",
       "2012-01-01 02:00:00  4765.0  3319.0      50Hertz  1446.0  2012      1     2\n",
       "2012-01-01 03:00:00  5004.0  3575.0      50Hertz  1429.0  2012      1     3\n",
       "2012-01-01 04:00:00  5321.0  3820.0      50Hertz  1501.0  2012      1     4"
      ]
     },
     "metadata": {},
     "execution_count": 339
    }
   ],
   "metadata": {}
  },
  {
   "cell_type": "markdown",
   "source": [
    "### 6.2.4 Resetting the Datetime Index"
   ],
   "metadata": {}
  },
  {
   "cell_type": "code",
   "execution_count": 340,
   "source": [
    "wind = wind.reset_index(drop=False)\n",
    "wind.head()"
   ],
   "outputs": [
    {
     "output_type": "execute_result",
     "data": {
      "text/html": [
       "<div>\n",
       "<style scoped>\n",
       "    .dataframe tbody tr th:only-of-type {\n",
       "        vertical-align: middle;\n",
       "    }\n",
       "\n",
       "    .dataframe tbody tr th {\n",
       "        vertical-align: top;\n",
       "    }\n",
       "\n",
       "    .dataframe thead th {\n",
       "        text-align: right;\n",
       "    }\n",
       "</style>\n",
       "<table border=\"1\" class=\"dataframe\">\n",
       "  <thead>\n",
       "    <tr style=\"text-align: right;\">\n",
       "      <th></th>\n",
       "      <th>date_time</th>\n",
       "      <th>pred</th>\n",
       "      <th>act</th>\n",
       "      <th>control_zone</th>\n",
       "      <th>delta</th>\n",
       "      <th>year</th>\n",
       "      <th>month</th>\n",
       "      <th>hour</th>\n",
       "    </tr>\n",
       "  </thead>\n",
       "  <tbody>\n",
       "    <tr>\n",
       "      <th>0</th>\n",
       "      <td>2012-01-01 00:00:00</td>\n",
       "      <td>4344.0</td>\n",
       "      <td>3483.0</td>\n",
       "      <td>50Hertz</td>\n",
       "      <td>861.0</td>\n",
       "      <td>2012</td>\n",
       "      <td>1</td>\n",
       "      <td>0</td>\n",
       "    </tr>\n",
       "    <tr>\n",
       "      <th>1</th>\n",
       "      <td>2012-01-01 01:00:00</td>\n",
       "      <td>4496.0</td>\n",
       "      <td>3319.0</td>\n",
       "      <td>50Hertz</td>\n",
       "      <td>1177.0</td>\n",
       "      <td>2012</td>\n",
       "      <td>1</td>\n",
       "      <td>1</td>\n",
       "    </tr>\n",
       "    <tr>\n",
       "      <th>2</th>\n",
       "      <td>2012-01-01 02:00:00</td>\n",
       "      <td>4765.0</td>\n",
       "      <td>3319.0</td>\n",
       "      <td>50Hertz</td>\n",
       "      <td>1446.0</td>\n",
       "      <td>2012</td>\n",
       "      <td>1</td>\n",
       "      <td>2</td>\n",
       "    </tr>\n",
       "    <tr>\n",
       "      <th>3</th>\n",
       "      <td>2012-01-01 03:00:00</td>\n",
       "      <td>5004.0</td>\n",
       "      <td>3575.0</td>\n",
       "      <td>50Hertz</td>\n",
       "      <td>1429.0</td>\n",
       "      <td>2012</td>\n",
       "      <td>1</td>\n",
       "      <td>3</td>\n",
       "    </tr>\n",
       "    <tr>\n",
       "      <th>4</th>\n",
       "      <td>2012-01-01 04:00:00</td>\n",
       "      <td>5321.0</td>\n",
       "      <td>3820.0</td>\n",
       "      <td>50Hertz</td>\n",
       "      <td>1501.0</td>\n",
       "      <td>2012</td>\n",
       "      <td>1</td>\n",
       "      <td>4</td>\n",
       "    </tr>\n",
       "  </tbody>\n",
       "</table>\n",
       "</div>"
      ],
      "text/plain": [
       "            date_time    pred     act control_zone   delta  year  month  hour\n",
       "0 2012-01-01 00:00:00  4344.0  3483.0      50Hertz   861.0  2012      1     0\n",
       "1 2012-01-01 01:00:00  4496.0  3319.0      50Hertz  1177.0  2012      1     1\n",
       "2 2012-01-01 02:00:00  4765.0  3319.0      50Hertz  1446.0  2012      1     2\n",
       "3 2012-01-01 03:00:00  5004.0  3575.0      50Hertz  1429.0  2012      1     3\n",
       "4 2012-01-01 04:00:00  5321.0  3820.0      50Hertz  1501.0  2012      1     4"
      ]
     },
     "metadata": {},
     "execution_count": 340
    }
   ],
   "metadata": {}
  },
  {
   "cell_type": "markdown",
   "source": [
    "# 7. Pushing the the prepared data to a table in the database"
   ],
   "metadata": {}
  },
  {
   "cell_type": "code",
   "execution_count": 342,
   "source": [
    "table = 'wind_LC'\n",
    "wind.to_sql(table, engine, index=False, if_exists=\"replace\", \n",
    "    method='multi', chunksize=5000)\n",
    "print('Successfully pushed!')"
   ],
   "outputs": [
    {
     "output_type": "stream",
     "name": "stdout",
     "text": [
      "Successfully pushed!\n"
     ]
    }
   ],
   "metadata": {}
  }
 ],
 "metadata": {
  "orig_nbformat": 4,
  "language_info": {
   "name": "python",
   "version": "3.8.5",
   "mimetype": "text/x-python",
   "codemirror_mode": {
    "name": "ipython",
    "version": 3
   },
   "pygments_lexer": "ipython3",
   "nbconvert_exporter": "python",
   "file_extension": ".py"
  },
  "kernelspec": {
   "name": "python3",
   "display_name": "Python 3.8.5 64-bit ('capestone': conda)"
  },
  "interpreter": {
   "hash": "f12d3e46a2b36ecb43c582532559cc190f182bd9868a4a47e82f9036042aba7e"
  }
 },
 "nbformat": 4,
 "nbformat_minor": 2
}